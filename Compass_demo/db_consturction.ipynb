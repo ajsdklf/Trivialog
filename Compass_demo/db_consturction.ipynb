{
 "cells": [
  {
   "cell_type": "code",
   "execution_count": 1,
   "metadata": {},
   "outputs": [],
   "source": [
    "from langchain.document_loaders import TextLoader\n",
    "from langchain.text_splitter import CharacterTextSplitter\n",
    "\n",
    "class CustomTextSplitter(CharacterTextSplitter):\n",
    "    def __init__(self, delimiter='/', **kwargs):\n",
    "        super().__init__(**kwargs)\n",
    "        self.delimiter = delimiter\n",
    "\n",
    "    def split_text(self, text: str):\n",
    "        return text.split(self.delimiter)"
   ]
  },
  {
   "cell_type": "code",
   "execution_count": 2,
   "metadata": {},
   "outputs": [
    {
     "name": "stdout",
     "output_type": "stream",
     "text": [
      "[Document(page_content=\"Source of Insight: Albert Einstein, Physicist.\\nContent of insight: Life is like riding a bicycle. To keep your balance, you must keep moving..\\nUseful insight in: Motivation.\\nThat insight could be helpful in the following way:\\nUse this insight to remind yourself that continuous effort and progress are essential in overcoming challenges and maintaining stability in life.  \\n\\n\\nSource of Insight: Maya Angelou, Poet.\\nContent of insight: You will face many defeats in life, but never let yourself be defeated..\\nUseful insight in: Resilience.\\nThat insight could be helpful in the following way:\\nApply this insight by viewing setbacks as opportunities to learn and grow, maintaining a positive mindset, and persevering through difficult times. \\n\\n\\nSource of Insight: The Power of Now by Eckhart Tolle.\\nContent of insight: Realize deeply that the present moment is all you ever have..\\nUseful insight in: Mindfulness.\\nThat insight could be helpful in the following way:\\nPractice mindfulness and live in the present by focusing on current experiences and sensations, letting go of past regrets and future anxieties.  \\n\\n\\nSource of Insight: Nelson Mandela, Political Leader.\\nContent of insight: It always seems impossible until it's done..\\nUseful insight in: Perseverance.\\nThat insight could be helpful in the following way:\\nUse this insight to push through challenging tasks by remembering that many great achievements once seemed impossible. \\n\\n\\nSource of Insight: To Kill a Mockingbird by Harper Lee.\\nContent of insight: You never really understand a person until you consider things from his point of view... Until you climb inside of his skin and walk around in it..\\nUseful insight in: Empathy.\\nThat insight could be helpful in the following way:\\nDevelop empathy by actively trying to understand and appreciate other people's perspectives and experiences. \\n\\n\\nSource of Insight: Steve Jobs, Entrepreneur.\\nContent of insight: Your work is going to fill a large part of your life, and the only way to be truly satisfied is to do what you believe is great work..\\nUseful insight in: Career.\\nThat insight could be helpful in the following way:\\nFocus on finding and pursuing work that aligns with your passions and values to achieve fulfillment and satisfaction in your career. \\n\\n\\nSource of Insight: Man's Search for Meaning by Viktor Frankl.\\nContent of insight: When we are no longer able to change a situation, we are challenged to change ourselves..\\nUseful insight in: Adaptability.\\nThat insight could be helpful in the following way:\\nEmbrace adaptability by focusing on how you can change your attitudes, behaviors, and mindset in response to situations beyond your control. \\n\\n\\nSource of Insight: Confucius, Philosopher.\\nContent of insight: It does not matter how slowly you go as long as you do not stop..\\nUseful insight in: Persistence.\\nThat insight could be helpful in the following way:\\nMaintain steady progress towards your goals, regardless of the pace, and avoid giving up when progress seems slow.  \\n\\n\\nSource of Insight: Mother Teresa, Humanitarian.\\nContent of insight: Not all of us can do great things. But we can do small things with great love..\\nUseful insight in: Kindness.\\nThat insight could be helpful in the following way:\\nFocus on performing small acts of kindness with a genuine heart to make a positive impact on others' lives.  \\n\\n\\nSource of Insight: The Alchemist by Paulo Coelho.\\nContent of insight: And, when you want something, all the universe conspires in helping you to achieve it..\\nUseful insight in: Aspiration.\\nThat insight could be helpful in the following way:\\nStay determined and optimistic about your goals, believing that the universe supports your endeavors and opportunities will arise.  \\n\\n\\nSource of Insight: Mahatma Gandhi, Leader.\\nContent of insight: Be the change that you wish to see in the world..\\nUseful insight in: Leadership.\\nThat insight could be helpful in the following way:\\nLead by example and take personal responsibility for creating the changes you want to see in society.  \\n\\n\\nSource of Insight: The Seven Habits of Highly Effective People by Stephen R. Covey.\\nContent of insight: The key is not to prioritize what's on your schedule, but to schedule your priorities..\\nUseful insight in: Productivity.\\nThat insight could be helpful in the following way:\\nOrganize your time by focusing on your most important tasks and goals, rather than just what demands immediate attention.  \\n\\n\\nSource of Insight: Winston Churchill, Prime Minister.\\nContent of insight: Success is not final, failure is not fatal: It is the courage to continue that counts..\\nUseful insight in: Courage.\\nThat insight could be helpful in the following way:\\nEmbrace resilience by recognizing that both success and failure are temporary, and true strength lies in the perseverance to keep moving forward.  \\n\\n\\nSource of Insight: The Road Less Traveled by M. Scott Peck.\\nContent of insight: Problems do not go away. They must be worked through or else they remain, forever a barrier to the growth and development of the spirit..\\nUseful insight in: Growth.\\nThat insight could be helpful in the following way:\\nApproach problems proactively by working through them to achieve personal growth and avoid long-term obstacles.  \\n\\n\\nSource of Insight: Helen Keller, Author.\\nContent of insight: The only thing worse than being blind is having sight but no vision..\\nUseful insight in: Vision.\\nThat insight could be helpful in the following way:\\nCultivate a clear vision and purpose in life to guide your actions and decisions, rather than simply going through the motions.  \\n\\n\\nSource of Insight: Meditations by Marcus Aurelius.\\nContent of insight: You have power over your mind—not outside events. Realize this, and you will find strength..\\nUseful insight in: Self-Control.\\nThat insight could be helpful in the following way:\\nFocus on controlling your thoughts and reactions to build inner strength and resilience against external circumstances.  \\n\\n\\nSource of Insight: Oprah Winfrey, Television Host.\\nContent of insight: Turn your wounds into wisdom..\\nUseful insight in: Healing.\\nThat insight could be helpful in the following way:\\nTransform past pain and experiences into valuable lessons that can guide your future actions and decisions.  \\n\\n\\nSource of Insight: Thinking, Fast and Slow by Daniel Kahneman.\\nContent of insight: Nothing in life is as important as you think it is, while you are thinking about it..\\nUseful insight in: Perspective.\\nThat insight could be helpful in the following way:\\nMaintain perspective by recognizing that immediate concerns often seem more significant than they truly are, helping you to manage stress and make better decisions.  \\n\\n\\nSource of Insight: Aristotle, Philosopher.\\nContent of insight: We are what we repeatedly do. Excellence, then, is not an act, but a habit..\\nUseful insight in: Excellence.\\nThat insight could be helpful in the following way:\\nStrive for excellence by developing and maintaining positive habits that contribute to consistent high performance.  \\n\\n\\nSource of Insight: Atomic Habits by James Clear.\\nContent of insight: You do not rise to the level of your goals, you fall to the level of your systems..\\nUseful insight in: Habits.\\nThat insight could be helpful in the following way:\\nFocus on creating effective systems and processes that support your goals, ensuring consistent progress and achievement.  \\n\\n\\nSource of Insight: Marie Curie, Scientist.\\nContent of insight: Nothing in life is to be feared, it is only to be understood. Now is the time to understand more, so that we may fear less..\\nUseful insight in: Understanding.\\nThat insight could be helpful in the following way:\\nApproach fears with a mindset of learning and understanding, reducing anxiety through knowledge and comprehension.  \\n\\n\\nSource of Insight: The Art of Happiness by Dalai Lama.\\nContent of insight: Happiness is not something ready-made. It comes from your own actions..\\nUseful insight in: Happiness.\\nThat insight could be helpful in the following way:\\nTake proactive steps to cultivate happiness through positive actions, choices, and attitudes in daily life.  \\n\\n\\nSource of Insight: Brene Brown, Researcher.\\nContent of insight: Vulnerability is not winning or losing; it's having the courage to show up and be seen when we have no control over the outcome..\\nUseful insight in: Vulnerability.\\nThat insight could be helpful in the following way:\\nEmbrace vulnerability by being open and authentic, even when outcomes are uncertain, fostering deeper connections and personal growth.  \\n\\n\\nSource of Insight: Daring Greatly by Brene Brown.\\nContent of insight: Courage starts with showing up and letting ourselves be seen..\\nUseful insight in: Courage.\\nThat insight could be helpful in the following way:\\nDemonstrate courage by being present and authentic in your interactions, even when it feels uncomfortable or risky.  \\n\\n\\nSource of Insight: Ralph Waldo Emerson, Essayist.\\nContent of insight: To be yourself in a world that is constantly trying to make you something else is the greatest accomplishment..\\nUseful insight in: Authenticity.\\nThat insight could be helpful in the following way:\\nStay true to your values and beliefs, resisting external pressures to conform, and celebrate your unique identity.  \\n\\n\\nSource of Insight: The Four Agreements by Don Miguel Ruiz.\\nContent of insight: Be impeccable with your word. Speak with integrity. Say only what you mean..\\nUseful insight in: Integrity.\\nThat insight could be helpful in the following way:\\nPractice integrity by being honest and clear in your communication, ensuring your words align with your intentions and actions.  \\n\\n\\nSource of Insight: Eleanor Roosevelt, First Lady.\\nContent of insight: No one can make you feel inferior without your consent..\\nUseful insight in: Self-Esteem.\\nThat insight could be helpful in the following way:\\nBuild self-esteem by understanding that your self-worth is determined by you, not by others' opinions or actions.  \\n\\n\\nSource of Insight: The Subtle Art of Not Giving a F*ck by Mark Manson.\\nContent of insight: You cannot be a powerful and life-changing presence to some people without being a joke or an embarrassment to others. You just can't..\\nUseful insight in: Self-Confidence.\\nThat insight could be helpful in the following way:\\nCultivate self-confidence by accepting that you cannot please everyone and focusing on the impact you want to make.  \\n\\n\\nSource of Insight: J.K. Rowling, Author.\\nContent of insight: It is our choices that show what we truly are, far more than our abilities..\\nUseful insight in: Choice.\\nThat insight could be helpful in the following way:\\nMake conscious and deliberate choices that reflect your values and aspirations, understanding that your decisions define you.  \\n\\n\\nSource of Insight: The Great Gatsby by F. Scott Fitzgerald.\\nContent of insight: So we beat on, boats against the current, borne back ceaselessly into the past..\\nUseful insight in: Perseverance.\\nThat insight could be helpful in the following way:\\nUse this insight to accept the persistence of challenges while maintaining hope and continuing to strive for progress.  \\n\\n\\nSource of Insight: Leonardo da Vinci, Artist.\\nContent of insight: Learning never exhausts the mind..\\nUseful insight in: Learning.\\nThat insight could be helpful in the following way:\\nMaintain a lifelong curiosity and passion for learning, understanding that knowledge enriches life and fuels personal growth.  \\n\\n\\nSource of Insight: 1984 by George Orwell.\\nContent of insight: In a time of deceit telling the truth is a revolutionary act..\\nUseful insight in: Truth.\\nThat insight could be helpful in the following way:\\nCommit to honesty and integrity, recognizing the power of truth in a world where misinformation and deceit are prevalent.  \\n\\n\\nSource of Insight: Jane Austen, Author.\\nContent of insight: There is no charm equal to tenderness of heart..\\nUseful insight in: Compassion.\\nThat insight could be helpful in the following way:\\nFoster compassion by being kind and understanding towards others, appreciating the beauty of a tender and empathetic heart.  \\n\\n\\nSource of Insight: Pride and Prejudice by Jane Austen.\\nContent of insight: I declare after all there is no enjoyment like reading! How much sooner one tires of anything than of a book!.\\nUseful insight in: Reading.\\nThat insight could be helpful in the following way:\\nEmbrace reading as a source of joy and enrichment, regularly engaging with books to broaden your perspective and knowledge.  \\n\\n\\nSource of Insight: Mark Twain, Writer.\\nContent of insight: The secret of getting ahead is getting started..\\nUseful insight in: Action.\\nThat insight could be helpful in the following way:\\nOvercome procrastination by taking the first step towards your goals, understanding that action is the key to progress.  \\n\\n\\nSource of Insight: The Catcher in the Rye by J.D. Salinger.\\nContent of insight: People always clap for the wrong reasons..\\nUseful insight in: Society.\\nThat insight could be helpful in the following way:\\nDevelop critical thinking by questioning societal norms and motivations, recognizing that popular approval is not always a sign of true value.  \\n\\n\\nSource of Insight: Charles Dickens, Writer.\\nContent of insight: No one is useless in this world who lightens the burdens of another..\\nUseful insight in: Service.\\nThat insight could be helpful in the following way:\\nContribute to the well-being of others by offering help and support, understanding that even small acts of kindness have significant value.  \\n\\n\\nSource of Insight: A Tale of Two Cities by Charles Dickens.\\nContent of insight: It was the best of times, it was the worst of times..\\nUseful insight in: Life.\\nThat insight could be helpful in the following way:\\nAcknowledge the duality of life, accepting that good and bad times coexist, and find balance by appreciating both.  \\n\", metadata={'source': './DB_Book_and_Famous.txt'})]\n",
      "1\n",
      "38\n",
      "page_content='Source of Insight: Albert Einstein, Physicist.\\nContent of insight: Life is like riding a bicycle. To keep your balance, you must keep moving..\\nUseful insight in: Motivation.\\nThat insight could be helpful in the following way:\\nUse this insight to remind yourself that continuous effort and progress are essential in overcoming challenges and maintaining stability in life.  ' metadata={'source': './DB_Book_and_Famous.txt'}\n",
      "page_content='\\nSource of Insight: Maya Angelou, Poet.\\nContent of insight: You will face many defeats in life, but never let yourself be defeated..\\nUseful insight in: Resilience.\\nThat insight could be helpful in the following way:\\nApply this insight by viewing setbacks as opportunities to learn and grow, maintaining a positive mindset, and persevering through difficult times. ' metadata={'source': './DB_Book_and_Famous.txt'}\n",
      "page_content='\\nSource of Insight: The Power of Now by Eckhart Tolle.\\nContent of insight: Realize deeply that the present moment is all you ever have..\\nUseful insight in: Mindfulness.\\nThat insight could be helpful in the following way:\\nPractice mindfulness and live in the present by focusing on current experiences and sensations, letting go of past regrets and future anxieties.  ' metadata={'source': './DB_Book_and_Famous.txt'}\n",
      "page_content=\"\\nSource of Insight: Nelson Mandela, Political Leader.\\nContent of insight: It always seems impossible until it's done..\\nUseful insight in: Perseverance.\\nThat insight could be helpful in the following way:\\nUse this insight to push through challenging tasks by remembering that many great achievements once seemed impossible. \" metadata={'source': './DB_Book_and_Famous.txt'}\n",
      "page_content=\"\\nSource of Insight: To Kill a Mockingbird by Harper Lee.\\nContent of insight: You never really understand a person until you consider things from his point of view... Until you climb inside of his skin and walk around in it..\\nUseful insight in: Empathy.\\nThat insight could be helpful in the following way:\\nDevelop empathy by actively trying to understand and appreciate other people's perspectives and experiences. \" metadata={'source': './DB_Book_and_Famous.txt'}\n",
      "page_content='\\nSource of Insight: Steve Jobs, Entrepreneur.\\nContent of insight: Your work is going to fill a large part of your life, and the only way to be truly satisfied is to do what you believe is great work..\\nUseful insight in: Career.\\nThat insight could be helpful in the following way:\\nFocus on finding and pursuing work that aligns with your passions and values to achieve fulfillment and satisfaction in your career. ' metadata={'source': './DB_Book_and_Famous.txt'}\n",
      "page_content=\"\\nSource of Insight: Man's Search for Meaning by Viktor Frankl.\\nContent of insight: When we are no longer able to change a situation, we are challenged to change ourselves..\\nUseful insight in: Adaptability.\\nThat insight could be helpful in the following way:\\nEmbrace adaptability by focusing on how you can change your attitudes, behaviors, and mindset in response to situations beyond your control. \" metadata={'source': './DB_Book_and_Famous.txt'}\n",
      "page_content='\\nSource of Insight: Confucius, Philosopher.\\nContent of insight: It does not matter how slowly you go as long as you do not stop..\\nUseful insight in: Persistence.\\nThat insight could be helpful in the following way:\\nMaintain steady progress towards your goals, regardless of the pace, and avoid giving up when progress seems slow.  ' metadata={'source': './DB_Book_and_Famous.txt'}\n",
      "page_content=\"\\nSource of Insight: Mother Teresa, Humanitarian.\\nContent of insight: Not all of us can do great things. But we can do small things with great love..\\nUseful insight in: Kindness.\\nThat insight could be helpful in the following way:\\nFocus on performing small acts of kindness with a genuine heart to make a positive impact on others' lives.  \" metadata={'source': './DB_Book_and_Famous.txt'}\n",
      "page_content='\\nSource of Insight: The Alchemist by Paulo Coelho.\\nContent of insight: And, when you want something, all the universe conspires in helping you to achieve it..\\nUseful insight in: Aspiration.\\nThat insight could be helpful in the following way:\\nStay determined and optimistic about your goals, believing that the universe supports your endeavors and opportunities will arise.  ' metadata={'source': './DB_Book_and_Famous.txt'}\n",
      "page_content='\\nSource of Insight: Mahatma Gandhi, Leader.\\nContent of insight: Be the change that you wish to see in the world..\\nUseful insight in: Leadership.\\nThat insight could be helpful in the following way:\\nLead by example and take personal responsibility for creating the changes you want to see in society.  ' metadata={'source': './DB_Book_and_Famous.txt'}\n",
      "page_content=\"\\nSource of Insight: The Seven Habits of Highly Effective People by Stephen R. Covey.\\nContent of insight: The key is not to prioritize what's on your schedule, but to schedule your priorities..\\nUseful insight in: Productivity.\\nThat insight could be helpful in the following way:\\nOrganize your time by focusing on your most important tasks and goals, rather than just what demands immediate attention.  \" metadata={'source': './DB_Book_and_Famous.txt'}\n",
      "page_content='\\nSource of Insight: Winston Churchill, Prime Minister.\\nContent of insight: Success is not final, failure is not fatal: It is the courage to continue that counts..\\nUseful insight in: Courage.\\nThat insight could be helpful in the following way:\\nEmbrace resilience by recognizing that both success and failure are temporary, and true strength lies in the perseverance to keep moving forward.  ' metadata={'source': './DB_Book_and_Famous.txt'}\n",
      "page_content='\\nSource of Insight: The Road Less Traveled by M. Scott Peck.\\nContent of insight: Problems do not go away. They must be worked through or else they remain, forever a barrier to the growth and development of the spirit..\\nUseful insight in: Growth.\\nThat insight could be helpful in the following way:\\nApproach problems proactively by working through them to achieve personal growth and avoid long-term obstacles.  ' metadata={'source': './DB_Book_and_Famous.txt'}\n",
      "page_content='\\nSource of Insight: Helen Keller, Author.\\nContent of insight: The only thing worse than being blind is having sight but no vision..\\nUseful insight in: Vision.\\nThat insight could be helpful in the following way:\\nCultivate a clear vision and purpose in life to guide your actions and decisions, rather than simply going through the motions.  ' metadata={'source': './DB_Book_and_Famous.txt'}\n",
      "page_content='\\nSource of Insight: Meditations by Marcus Aurelius.\\nContent of insight: You have power over your mind—not outside events. Realize this, and you will find strength..\\nUseful insight in: Self-Control.\\nThat insight could be helpful in the following way:\\nFocus on controlling your thoughts and reactions to build inner strength and resilience against external circumstances.  ' metadata={'source': './DB_Book_and_Famous.txt'}\n",
      "page_content='\\nSource of Insight: Oprah Winfrey, Television Host.\\nContent of insight: Turn your wounds into wisdom..\\nUseful insight in: Healing.\\nThat insight could be helpful in the following way:\\nTransform past pain and experiences into valuable lessons that can guide your future actions and decisions.  ' metadata={'source': './DB_Book_and_Famous.txt'}\n",
      "page_content='\\nSource of Insight: Thinking, Fast and Slow by Daniel Kahneman.\\nContent of insight: Nothing in life is as important as you think it is, while you are thinking about it..\\nUseful insight in: Perspective.\\nThat insight could be helpful in the following way:\\nMaintain perspective by recognizing that immediate concerns often seem more significant than they truly are, helping you to manage stress and make better decisions.  ' metadata={'source': './DB_Book_and_Famous.txt'}\n",
      "page_content='\\nSource of Insight: Aristotle, Philosopher.\\nContent of insight: We are what we repeatedly do. Excellence, then, is not an act, but a habit..\\nUseful insight in: Excellence.\\nThat insight could be helpful in the following way:\\nStrive for excellence by developing and maintaining positive habits that contribute to consistent high performance.  ' metadata={'source': './DB_Book_and_Famous.txt'}\n",
      "page_content='\\nSource of Insight: Atomic Habits by James Clear.\\nContent of insight: You do not rise to the level of your goals, you fall to the level of your systems..\\nUseful insight in: Habits.\\nThat insight could be helpful in the following way:\\nFocus on creating effective systems and processes that support your goals, ensuring consistent progress and achievement.  ' metadata={'source': './DB_Book_and_Famous.txt'}\n",
      "page_content='\\nSource of Insight: Marie Curie, Scientist.\\nContent of insight: Nothing in life is to be feared, it is only to be understood. Now is the time to understand more, so that we may fear less..\\nUseful insight in: Understanding.\\nThat insight could be helpful in the following way:\\nApproach fears with a mindset of learning and understanding, reducing anxiety through knowledge and comprehension.  ' metadata={'source': './DB_Book_and_Famous.txt'}\n",
      "page_content='\\nSource of Insight: The Art of Happiness by Dalai Lama.\\nContent of insight: Happiness is not something ready-made. It comes from your own actions..\\nUseful insight in: Happiness.\\nThat insight could be helpful in the following way:\\nTake proactive steps to cultivate happiness through positive actions, choices, and attitudes in daily life.  ' metadata={'source': './DB_Book_and_Famous.txt'}\n",
      "page_content=\"\\nSource of Insight: Brene Brown, Researcher.\\nContent of insight: Vulnerability is not winning or losing; it's having the courage to show up and be seen when we have no control over the outcome..\\nUseful insight in: Vulnerability.\\nThat insight could be helpful in the following way:\\nEmbrace vulnerability by being open and authentic, even when outcomes are uncertain, fostering deeper connections and personal growth.  \" metadata={'source': './DB_Book_and_Famous.txt'}\n",
      "page_content='\\nSource of Insight: Daring Greatly by Brene Brown.\\nContent of insight: Courage starts with showing up and letting ourselves be seen..\\nUseful insight in: Courage.\\nThat insight could be helpful in the following way:\\nDemonstrate courage by being present and authentic in your interactions, even when it feels uncomfortable or risky.  ' metadata={'source': './DB_Book_and_Famous.txt'}\n",
      "page_content='\\nSource of Insight: Ralph Waldo Emerson, Essayist.\\nContent of insight: To be yourself in a world that is constantly trying to make you something else is the greatest accomplishment..\\nUseful insight in: Authenticity.\\nThat insight could be helpful in the following way:\\nStay true to your values and beliefs, resisting external pressures to conform, and celebrate your unique identity.  ' metadata={'source': './DB_Book_and_Famous.txt'}\n",
      "page_content='\\nSource of Insight: The Four Agreements by Don Miguel Ruiz.\\nContent of insight: Be impeccable with your word. Speak with integrity. Say only what you mean..\\nUseful insight in: Integrity.\\nThat insight could be helpful in the following way:\\nPractice integrity by being honest and clear in your communication, ensuring your words align with your intentions and actions.  ' metadata={'source': './DB_Book_and_Famous.txt'}\n",
      "page_content=\"\\nSource of Insight: Eleanor Roosevelt, First Lady.\\nContent of insight: No one can make you feel inferior without your consent..\\nUseful insight in: Self-Esteem.\\nThat insight could be helpful in the following way:\\nBuild self-esteem by understanding that your self-worth is determined by you, not by others' opinions or actions.  \" metadata={'source': './DB_Book_and_Famous.txt'}\n",
      "page_content=\"\\nSource of Insight: The Subtle Art of Not Giving a F*ck by Mark Manson.\\nContent of insight: You cannot be a powerful and life-changing presence to some people without being a joke or an embarrassment to others. You just can't..\\nUseful insight in: Self-Confidence.\\nThat insight could be helpful in the following way:\\nCultivate self-confidence by accepting that you cannot please everyone and focusing on the impact you want to make.  \" metadata={'source': './DB_Book_and_Famous.txt'}\n",
      "page_content='\\nSource of Insight: J.K. Rowling, Author.\\nContent of insight: It is our choices that show what we truly are, far more than our abilities..\\nUseful insight in: Choice.\\nThat insight could be helpful in the following way:\\nMake conscious and deliberate choices that reflect your values and aspirations, understanding that your decisions define you.  ' metadata={'source': './DB_Book_and_Famous.txt'}\n",
      "page_content='\\nSource of Insight: The Great Gatsby by F. Scott Fitzgerald.\\nContent of insight: So we beat on, boats against the current, borne back ceaselessly into the past..\\nUseful insight in: Perseverance.\\nThat insight could be helpful in the following way:\\nUse this insight to accept the persistence of challenges while maintaining hope and continuing to strive for progress.  ' metadata={'source': './DB_Book_and_Famous.txt'}\n",
      "page_content='\\nSource of Insight: Leonardo da Vinci, Artist.\\nContent of insight: Learning never exhausts the mind..\\nUseful insight in: Learning.\\nThat insight could be helpful in the following way:\\nMaintain a lifelong curiosity and passion for learning, understanding that knowledge enriches life and fuels personal growth.  ' metadata={'source': './DB_Book_and_Famous.txt'}\n",
      "page_content='\\nSource of Insight: 1984 by George Orwell.\\nContent of insight: In a time of deceit telling the truth is a revolutionary act..\\nUseful insight in: Truth.\\nThat insight could be helpful in the following way:\\nCommit to honesty and integrity, recognizing the power of truth in a world where misinformation and deceit are prevalent.  ' metadata={'source': './DB_Book_and_Famous.txt'}\n",
      "page_content='\\nSource of Insight: Jane Austen, Author.\\nContent of insight: There is no charm equal to tenderness of heart..\\nUseful insight in: Compassion.\\nThat insight could be helpful in the following way:\\nFoster compassion by being kind and understanding towards others, appreciating the beauty of a tender and empathetic heart.  ' metadata={'source': './DB_Book_and_Famous.txt'}\n",
      "page_content='\\nSource of Insight: Pride and Prejudice by Jane Austen.\\nContent of insight: I declare after all there is no enjoyment like reading! How much sooner one tires of anything than of a book!.\\nUseful insight in: Reading.\\nThat insight could be helpful in the following way:\\nEmbrace reading as a source of joy and enrichment, regularly engaging with books to broaden your perspective and knowledge.  ' metadata={'source': './DB_Book_and_Famous.txt'}\n",
      "page_content='\\nSource of Insight: Mark Twain, Writer.\\nContent of insight: The secret of getting ahead is getting started..\\nUseful insight in: Action.\\nThat insight could be helpful in the following way:\\nOvercome procrastination by taking the first step towards your goals, understanding that action is the key to progress.  ' metadata={'source': './DB_Book_and_Famous.txt'}\n",
      "page_content='\\nSource of Insight: The Catcher in the Rye by J.D. Salinger.\\nContent of insight: People always clap for the wrong reasons..\\nUseful insight in: Society.\\nThat insight could be helpful in the following way:\\nDevelop critical thinking by questioning societal norms and motivations, recognizing that popular approval is not always a sign of true value.  ' metadata={'source': './DB_Book_and_Famous.txt'}\n",
      "page_content='\\nSource of Insight: Charles Dickens, Writer.\\nContent of insight: No one is useless in this world who lightens the burdens of another..\\nUseful insight in: Service.\\nThat insight could be helpful in the following way:\\nContribute to the well-being of others by offering help and support, understanding that even small acts of kindness have significant value.  ' metadata={'source': './DB_Book_and_Famous.txt'}\n",
      "page_content='\\nSource of Insight: A Tale of Two Cities by Charles Dickens.\\nContent of insight: It was the best of times, it was the worst of times..\\nUseful insight in: Life.\\nThat insight could be helpful in the following way:\\nAcknowledge the duality of life, accepting that good and bad times coexist, and find balance by appreciating both.  \\n' metadata={'source': './DB_Book_and_Famous.txt'}\n"
     ]
    }
   ],
   "source": [
    "\n",
    "file_path = './DB_Book_and_Famous.txt'\n",
    "loader = TextLoader(file_path)\n",
    "\n",
    "splitter = CustomTextSplitter(delimiter='\\n\\n')\n",
    "\n",
    "documents = loader.load()\n",
    "print(documents)\n",
    "print(len(documents))\n",
    "\n",
    "# for document in documents:\n",
    "#   print(document.page_content)\n",
    "\n",
    "document = splitter.split_documents(documents)\n",
    "print(len(document))\n",
    "for chunk in document:\n",
    "  print(chunk)"
   ]
  },
  {
   "cell_type": "code",
   "execution_count": 4,
   "metadata": {},
   "outputs": [
    {
     "name": "stdout",
     "output_type": "stream",
     "text": [
      "page_content='Source of Insight: Albert Einstein, Physicist.\\nContent of insight: Life is like riding a bicycle. To keep your balance, you must keep moving..\\nUseful insight in: Motivation.\\nThat insight could be helpful in the following way:\\nUse this insight to remind yourself that continuous effort and progress are essential in overcoming challenges and maintaining stability in life.  ' metadata={'source': './DB_Book_and_Famous.txt'}\n",
      "page_content='\\nSource of Insight: Maya Angelou, Poet.\\nContent of insight: You will face many defeats in life, but never let yourself be defeated..\\nUseful insight in: Resilience.\\nThat insight could be helpful in the following way:\\nApply this insight by viewing setbacks as opportunities to learn and grow, maintaining a positive mindset, and persevering through difficult times. ' metadata={'source': './DB_Book_and_Famous.txt'}\n",
      "page_content='\\nSource of Insight: The Power of Now by Eckhart Tolle.\\nContent of insight: Realize deeply that the present moment is all you ever have..\\nUseful insight in: Mindfulness.\\nThat insight could be helpful in the following way:\\nPractice mindfulness and live in the present by focusing on current experiences and sensations, letting go of past regrets and future anxieties.  ' metadata={'source': './DB_Book_and_Famous.txt'}\n",
      "page_content=\"\\nSource of Insight: Nelson Mandela, Political Leader.\\nContent of insight: It always seems impossible until it's done..\\nUseful insight in: Perseverance.\\nThat insight could be helpful in the following way:\\nUse this insight to push through challenging tasks by remembering that many great achievements once seemed impossible. \" metadata={'source': './DB_Book_and_Famous.txt'}\n",
      "page_content=\"\\nSource of Insight: To Kill a Mockingbird by Harper Lee.\\nContent of insight: You never really understand a person until you consider things from his point of view... Until you climb inside of his skin and walk around in it..\\nUseful insight in: Empathy.\\nThat insight could be helpful in the following way:\\nDevelop empathy by actively trying to understand and appreciate other people's perspectives and experiences. \" metadata={'source': './DB_Book_and_Famous.txt'}\n",
      "page_content='\\nSource of Insight: Steve Jobs, Entrepreneur.\\nContent of insight: Your work is going to fill a large part of your life, and the only way to be truly satisfied is to do what you believe is great work..\\nUseful insight in: Career.\\nThat insight could be helpful in the following way:\\nFocus on finding and pursuing work that aligns with your passions and values to achieve fulfillment and satisfaction in your career. ' metadata={'source': './DB_Book_and_Famous.txt'}\n",
      "page_content=\"\\nSource of Insight: Man's Search for Meaning by Viktor Frankl.\\nContent of insight: When we are no longer able to change a situation, we are challenged to change ourselves..\\nUseful insight in: Adaptability.\\nThat insight could be helpful in the following way:\\nEmbrace adaptability by focusing on how you can change your attitudes, behaviors, and mindset in response to situations beyond your control. \" metadata={'source': './DB_Book_and_Famous.txt'}\n",
      "page_content='\\nSource of Insight: Confucius, Philosopher.\\nContent of insight: It does not matter how slowly you go as long as you do not stop..\\nUseful insight in: Persistence.\\nThat insight could be helpful in the following way:\\nMaintain steady progress towards your goals, regardless of the pace, and avoid giving up when progress seems slow.  ' metadata={'source': './DB_Book_and_Famous.txt'}\n",
      "page_content=\"\\nSource of Insight: Mother Teresa, Humanitarian.\\nContent of insight: Not all of us can do great things. But we can do small things with great love..\\nUseful insight in: Kindness.\\nThat insight could be helpful in the following way:\\nFocus on performing small acts of kindness with a genuine heart to make a positive impact on others' lives.  \" metadata={'source': './DB_Book_and_Famous.txt'}\n",
      "page_content='\\nSource of Insight: The Alchemist by Paulo Coelho.\\nContent of insight: And, when you want something, all the universe conspires in helping you to achieve it..\\nUseful insight in: Aspiration.\\nThat insight could be helpful in the following way:\\nStay determined and optimistic about your goals, believing that the universe supports your endeavors and opportunities will arise.  ' metadata={'source': './DB_Book_and_Famous.txt'}\n",
      "page_content='\\nSource of Insight: Mahatma Gandhi, Leader.\\nContent of insight: Be the change that you wish to see in the world..\\nUseful insight in: Leadership.\\nThat insight could be helpful in the following way:\\nLead by example and take personal responsibility for creating the changes you want to see in society.  ' metadata={'source': './DB_Book_and_Famous.txt'}\n",
      "page_content=\"\\nSource of Insight: The Seven Habits of Highly Effective People by Stephen R. Covey.\\nContent of insight: The key is not to prioritize what's on your schedule, but to schedule your priorities..\\nUseful insight in: Productivity.\\nThat insight could be helpful in the following way:\\nOrganize your time by focusing on your most important tasks and goals, rather than just what demands immediate attention.  \" metadata={'source': './DB_Book_and_Famous.txt'}\n",
      "page_content='\\nSource of Insight: Winston Churchill, Prime Minister.\\nContent of insight: Success is not final, failure is not fatal: It is the courage to continue that counts..\\nUseful insight in: Courage.\\nThat insight could be helpful in the following way:\\nEmbrace resilience by recognizing that both success and failure are temporary, and true strength lies in the perseverance to keep moving forward.  ' metadata={'source': './DB_Book_and_Famous.txt'}\n",
      "page_content='\\nSource of Insight: The Road Less Traveled by M. Scott Peck.\\nContent of insight: Problems do not go away. They must be worked through or else they remain, forever a barrier to the growth and development of the spirit..\\nUseful insight in: Growth.\\nThat insight could be helpful in the following way:\\nApproach problems proactively by working through them to achieve personal growth and avoid long-term obstacles.  ' metadata={'source': './DB_Book_and_Famous.txt'}\n",
      "page_content='\\nSource of Insight: Helen Keller, Author.\\nContent of insight: The only thing worse than being blind is having sight but no vision..\\nUseful insight in: Vision.\\nThat insight could be helpful in the following way:\\nCultivate a clear vision and purpose in life to guide your actions and decisions, rather than simply going through the motions.  ' metadata={'source': './DB_Book_and_Famous.txt'}\n",
      "page_content='\\nSource of Insight: Meditations by Marcus Aurelius.\\nContent of insight: You have power over your mind—not outside events. Realize this, and you will find strength..\\nUseful insight in: Self-Control.\\nThat insight could be helpful in the following way:\\nFocus on controlling your thoughts and reactions to build inner strength and resilience against external circumstances.  ' metadata={'source': './DB_Book_and_Famous.txt'}\n",
      "page_content='\\nSource of Insight: Oprah Winfrey, Television Host.\\nContent of insight: Turn your wounds into wisdom..\\nUseful insight in: Healing.\\nThat insight could be helpful in the following way:\\nTransform past pain and experiences into valuable lessons that can guide your future actions and decisions.  ' metadata={'source': './DB_Book_and_Famous.txt'}\n",
      "page_content='\\nSource of Insight: Thinking, Fast and Slow by Daniel Kahneman.\\nContent of insight: Nothing in life is as important as you think it is, while you are thinking about it..\\nUseful insight in: Perspective.\\nThat insight could be helpful in the following way:\\nMaintain perspective by recognizing that immediate concerns often seem more significant than they truly are, helping you to manage stress and make better decisions.  ' metadata={'source': './DB_Book_and_Famous.txt'}\n",
      "page_content='\\nSource of Insight: Aristotle, Philosopher.\\nContent of insight: We are what we repeatedly do. Excellence, then, is not an act, but a habit..\\nUseful insight in: Excellence.\\nThat insight could be helpful in the following way:\\nStrive for excellence by developing and maintaining positive habits that contribute to consistent high performance.  ' metadata={'source': './DB_Book_and_Famous.txt'}\n",
      "page_content='\\nSource of Insight: Atomic Habits by James Clear.\\nContent of insight: You do not rise to the level of your goals, you fall to the level of your systems..\\nUseful insight in: Habits.\\nThat insight could be helpful in the following way:\\nFocus on creating effective systems and processes that support your goals, ensuring consistent progress and achievement.  ' metadata={'source': './DB_Book_and_Famous.txt'}\n",
      "page_content='\\nSource of Insight: Marie Curie, Scientist.\\nContent of insight: Nothing in life is to be feared, it is only to be understood. Now is the time to understand more, so that we may fear less..\\nUseful insight in: Understanding.\\nThat insight could be helpful in the following way:\\nApproach fears with a mindset of learning and understanding, reducing anxiety through knowledge and comprehension.  ' metadata={'source': './DB_Book_and_Famous.txt'}\n",
      "page_content='\\nSource of Insight: The Art of Happiness by Dalai Lama.\\nContent of insight: Happiness is not something ready-made. It comes from your own actions..\\nUseful insight in: Happiness.\\nThat insight could be helpful in the following way:\\nTake proactive steps to cultivate happiness through positive actions, choices, and attitudes in daily life.  ' metadata={'source': './DB_Book_and_Famous.txt'}\n",
      "page_content=\"\\nSource of Insight: Brene Brown, Researcher.\\nContent of insight: Vulnerability is not winning or losing; it's having the courage to show up and be seen when we have no control over the outcome..\\nUseful insight in: Vulnerability.\\nThat insight could be helpful in the following way:\\nEmbrace vulnerability by being open and authentic, even when outcomes are uncertain, fostering deeper connections and personal growth.  \" metadata={'source': './DB_Book_and_Famous.txt'}\n",
      "page_content='\\nSource of Insight: Daring Greatly by Brene Brown.\\nContent of insight: Courage starts with showing up and letting ourselves be seen..\\nUseful insight in: Courage.\\nThat insight could be helpful in the following way:\\nDemonstrate courage by being present and authentic in your interactions, even when it feels uncomfortable or risky.  ' metadata={'source': './DB_Book_and_Famous.txt'}\n",
      "page_content='\\nSource of Insight: Ralph Waldo Emerson, Essayist.\\nContent of insight: To be yourself in a world that is constantly trying to make you something else is the greatest accomplishment..\\nUseful insight in: Authenticity.\\nThat insight could be helpful in the following way:\\nStay true to your values and beliefs, resisting external pressures to conform, and celebrate your unique identity.  ' metadata={'source': './DB_Book_and_Famous.txt'}\n",
      "page_content='\\nSource of Insight: The Four Agreements by Don Miguel Ruiz.\\nContent of insight: Be impeccable with your word. Speak with integrity. Say only what you mean..\\nUseful insight in: Integrity.\\nThat insight could be helpful in the following way:\\nPractice integrity by being honest and clear in your communication, ensuring your words align with your intentions and actions.  ' metadata={'source': './DB_Book_and_Famous.txt'}\n",
      "page_content=\"\\nSource of Insight: Eleanor Roosevelt, First Lady.\\nContent of insight: No one can make you feel inferior without your consent..\\nUseful insight in: Self-Esteem.\\nThat insight could be helpful in the following way:\\nBuild self-esteem by understanding that your self-worth is determined by you, not by others' opinions or actions.  \" metadata={'source': './DB_Book_and_Famous.txt'}\n",
      "page_content=\"\\nSource of Insight: The Subtle Art of Not Giving a F*ck by Mark Manson.\\nContent of insight: You cannot be a powerful and life-changing presence to some people without being a joke or an embarrassment to others. You just can't..\\nUseful insight in: Self-Confidence.\\nThat insight could be helpful in the following way:\\nCultivate self-confidence by accepting that you cannot please everyone and focusing on the impact you want to make.  \" metadata={'source': './DB_Book_and_Famous.txt'}\n",
      "page_content='\\nSource of Insight: J.K. Rowling, Author.\\nContent of insight: It is our choices that show what we truly are, far more than our abilities..\\nUseful insight in: Choice.\\nThat insight could be helpful in the following way:\\nMake conscious and deliberate choices that reflect your values and aspirations, understanding that your decisions define you.  ' metadata={'source': './DB_Book_and_Famous.txt'}\n",
      "page_content='\\nSource of Insight: The Great Gatsby by F. Scott Fitzgerald.\\nContent of insight: So we beat on, boats against the current, borne back ceaselessly into the past..\\nUseful insight in: Perseverance.\\nThat insight could be helpful in the following way:\\nUse this insight to accept the persistence of challenges while maintaining hope and continuing to strive for progress.  ' metadata={'source': './DB_Book_and_Famous.txt'}\n",
      "page_content='\\nSource of Insight: Leonardo da Vinci, Artist.\\nContent of insight: Learning never exhausts the mind..\\nUseful insight in: Learning.\\nThat insight could be helpful in the following way:\\nMaintain a lifelong curiosity and passion for learning, understanding that knowledge enriches life and fuels personal growth.  ' metadata={'source': './DB_Book_and_Famous.txt'}\n",
      "page_content='\\nSource of Insight: 1984 by George Orwell.\\nContent of insight: In a time of deceit telling the truth is a revolutionary act..\\nUseful insight in: Truth.\\nThat insight could be helpful in the following way:\\nCommit to honesty and integrity, recognizing the power of truth in a world where misinformation and deceit are prevalent.  ' metadata={'source': './DB_Book_and_Famous.txt'}\n",
      "page_content='\\nSource of Insight: Jane Austen, Author.\\nContent of insight: There is no charm equal to tenderness of heart..\\nUseful insight in: Compassion.\\nThat insight could be helpful in the following way:\\nFoster compassion by being kind and understanding towards others, appreciating the beauty of a tender and empathetic heart.  ' metadata={'source': './DB_Book_and_Famous.txt'}\n",
      "page_content='\\nSource of Insight: Pride and Prejudice by Jane Austen.\\nContent of insight: I declare after all there is no enjoyment like reading! How much sooner one tires of anything than of a book!.\\nUseful insight in: Reading.\\nThat insight could be helpful in the following way:\\nEmbrace reading as a source of joy and enrichment, regularly engaging with books to broaden your perspective and knowledge.  ' metadata={'source': './DB_Book_and_Famous.txt'}\n",
      "page_content='\\nSource of Insight: Mark Twain, Writer.\\nContent of insight: The secret of getting ahead is getting started..\\nUseful insight in: Action.\\nThat insight could be helpful in the following way:\\nOvercome procrastination by taking the first step towards your goals, understanding that action is the key to progress.  ' metadata={'source': './DB_Book_and_Famous.txt'}\n",
      "page_content='\\nSource of Insight: The Catcher in the Rye by J.D. Salinger.\\nContent of insight: People always clap for the wrong reasons..\\nUseful insight in: Society.\\nThat insight could be helpful in the following way:\\nDevelop critical thinking by questioning societal norms and motivations, recognizing that popular approval is not always a sign of true value.  ' metadata={'source': './DB_Book_and_Famous.txt'}\n",
      "page_content='\\nSource of Insight: Charles Dickens, Writer.\\nContent of insight: No one is useless in this world who lightens the burdens of another..\\nUseful insight in: Service.\\nThat insight could be helpful in the following way:\\nContribute to the well-being of others by offering help and support, understanding that even small acts of kindness have significant value.  ' metadata={'source': './DB_Book_and_Famous.txt'}\n",
      "page_content='\\nSource of Insight: A Tale of Two Cities by Charles Dickens.\\nContent of insight: It was the best of times, it was the worst of times..\\nUseful insight in: Life.\\nThat insight could be helpful in the following way:\\nAcknowledge the duality of life, accepting that good and bad times coexist, and find balance by appreciating both.  \\n' metadata={'source': './DB_Book_and_Famous.txt'}\n"
     ]
    }
   ],
   "source": [
    "for chunk in document:\n",
    "  print(chunk)"
   ]
  },
  {
   "cell_type": "code",
   "execution_count": 8,
   "metadata": {},
   "outputs": [],
   "source": [
    "from langchain_openai import OpenAIEmbeddings\n",
    "\n",
    "embed_model = OpenAIEmbeddings(model='text-embedding-3-large')"
   ]
  },
  {
   "cell_type": "code",
   "execution_count": 9,
   "metadata": {},
   "outputs": [],
   "source": [
    "from langchain_community.vectorstores import FAISS \n",
    "\n",
    "vector_index = FAISS.from_documents(document, embed_model)"
   ]
  },
  {
   "cell_type": "code",
   "execution_count": 10,
   "metadata": {},
   "outputs": [],
   "source": [
    "store_path = './db/faiss_index'\n",
    "vector_index.save_local(store_path)"
   ]
  },
  {
   "cell_type": "code",
   "execution_count": 11,
   "metadata": {},
   "outputs": [],
   "source": [
    "query = \"I am so tired.\""
   ]
  },
  {
   "cell_type": "code",
   "execution_count": 14,
   "metadata": {},
   "outputs": [],
   "source": [
    "retriever = vector_index.as_retriever(\n",
    "  search_kwargs={'k': 3}\n",
    ")\n",
    "\n",
    "retrieved_docs = retriever.invoke(query)"
   ]
  },
  {
   "cell_type": "code",
   "execution_count": 42,
   "metadata": {},
   "outputs": [],
   "source": [
    "from typing import List\n",
    "\n",
    "from langchain_core.documents import Document\n",
    "from langchain_core.runnables import chain\n",
    "\n",
    "\n",
    "@chain\n",
    "def retriever(query: str) -> List[Document]:\n",
    "    docs, scores = zip(*vector_index.similarity_search_with_score_by_vector(query))\n",
    "    for doc, score in zip(docs, scores):\n",
    "        doc.metadata[\"score\"] = score\n",
    "\n",
    "    return docs"
   ]
  },
  {
   "cell_type": "code",
   "execution_count": null,
   "metadata": {},
   "outputs": [],
   "source": [
    "vector_index.similarity_search_with_score_by_vector"
   ]
  },
  {
   "cell_type": "code",
   "execution_count": 39,
   "metadata": {},
   "outputs": [],
   "source": [
    "retrieved_documents = retriever.invoke(query)"
   ]
  },
  {
   "cell_type": "code",
   "execution_count": 43,
   "metadata": {},
   "outputs": [
    {
     "name": "stdout",
     "output_type": "stream",
     "text": [
      "{'source': './DB_Book_and_Famous.txt', 'score': 0.50826865}\n",
      "page_content='\\nSource of Insight: Pride and Prejudice by Jane Austen.\\nContent of insight: I declare after all there is no enjoyment like reading! How much sooner one tires of anything than of a book!.\\nUseful insight in: Reading.\\nThat insight could be helpful in the following way:\\nEmbrace reading as a source of joy and enrichment, regularly engaging with books to broaden your perspective and knowledge.  ' metadata={'source': './DB_Book_and_Famous.txt', 'score': 0.50826865}\n",
      "{'source': './DB_Book_and_Famous.txt', 'score': 0.5259526}\n",
      "page_content='Source of Insight: Albert Einstein, Physicist.\\nContent of insight: Life is like riding a bicycle. To keep your balance, you must keep moving..\\nUseful insight in: Motivation.\\nThat insight could be helpful in the following way:\\nUse this insight to remind yourself that continuous effort and progress are essential in overcoming challenges and maintaining stability in life.  ' metadata={'source': './DB_Book_and_Famous.txt', 'score': 0.5259526}\n",
      "{'source': './DB_Book_and_Famous.txt', 'score': 0.5325233}\n",
      "page_content=\"\\nSource of Insight: Nelson Mandela, Political Leader.\\nContent of insight: It always seems impossible until it's done..\\nUseful insight in: Perseverance.\\nThat insight could be helpful in the following way:\\nUse this insight to push through challenging tasks by remembering that many great achievements once seemed impossible. \" metadata={'source': './DB_Book_and_Famous.txt', 'score': 0.5325233}\n",
      "{'source': './DB_Book_and_Famous.txt', 'score': 0.53381735}\n",
      "page_content='\\nSource of Insight: Maya Angelou, Poet.\\nContent of insight: You will face many defeats in life, but never let yourself be defeated..\\nUseful insight in: Resilience.\\nThat insight could be helpful in the following way:\\nApply this insight by viewing setbacks as opportunities to learn and grow, maintaining a positive mindset, and persevering through difficult times. ' metadata={'source': './DB_Book_and_Famous.txt', 'score': 0.53381735}\n"
     ]
    }
   ],
   "source": [
    "for doc in retrieved_documents:\n",
    "  print(doc.metadata)\n",
    "  print(doc)"
   ]
  },
  {
   "cell_type": "code",
   "execution_count": null,
   "metadata": {},
   "outputs": [],
   "source": []
  },
  {
   "cell_type": "code",
   "execution_count": 48,
   "metadata": {},
   "outputs": [],
   "source": [
    "retriever_threshold = vector_index.as_retriever(\n",
    "  search_type='similarity_score_threshold',\n",
    "  search_kwargs={'score_threshold': 0.5}\n",
    ")\n",
    "\n",
    "retrieved_docs_threshold = retriever_threshold.invoke(query)"
   ]
  },
  {
   "cell_type": "code",
   "execution_count": null,
   "metadata": {},
   "outputs": [],
   "source": []
  },
  {
   "cell_type": "code",
   "execution_count": 15,
   "metadata": {},
   "outputs": [
    {
     "name": "stdout",
     "output_type": "stream",
     "text": [
      "<class 'list'>\n"
     ]
    }
   ],
   "source": [
    "print(type(retrieved_docs))"
   ]
  },
  {
   "cell_type": "code",
   "execution_count": 49,
   "metadata": {},
   "outputs": [
    {
     "name": "stdout",
     "output_type": "stream",
     "text": [
      "page_content='\\nSource of Insight: Pride and Prejudice by Jane Austen.\\nContent of insight: I declare after all there is no enjoyment like reading! How much sooner one tires of anything than of a book!.\\nUseful insight in: Reading.\\nThat insight could be helpful in the following way:\\nEmbrace reading as a source of joy and enrichment, regularly engaging with books to broaden your perspective and knowledge.  ' metadata={'source': './DB_Book_and_Famous.txt', 'score': 0.50826865}\n",
      "\n",
      "Source of Insight: Pride and Prejudice by Jane Austen.\n",
      "Content of insight: I declare after all there is no enjoyment like reading! How much sooner one tires of anything than of a book!.\n",
      "Useful insight in: Reading.\n",
      "That insight could be helpful in the following way:\n",
      "Embrace reading as a source of joy and enrichment, regularly engaging with books to broaden your perspective and knowledge.  \n",
      "{'source': './DB_Book_and_Famous.txt', 'score': 0.50826865}\n",
      "page_content='Source of Insight: Albert Einstein, Physicist.\\nContent of insight: Life is like riding a bicycle. To keep your balance, you must keep moving..\\nUseful insight in: Motivation.\\nThat insight could be helpful in the following way:\\nUse this insight to remind yourself that continuous effort and progress are essential in overcoming challenges and maintaining stability in life.  ' metadata={'source': './DB_Book_and_Famous.txt', 'score': 0.5259526}\n",
      "Source of Insight: Albert Einstein, Physicist.\n",
      "Content of insight: Life is like riding a bicycle. To keep your balance, you must keep moving..\n",
      "Useful insight in: Motivation.\n",
      "That insight could be helpful in the following way:\n",
      "Use this insight to remind yourself that continuous effort and progress are essential in overcoming challenges and maintaining stability in life.  \n",
      "{'source': './DB_Book_and_Famous.txt', 'score': 0.5259526}\n",
      "page_content=\"\\nSource of Insight: Nelson Mandela, Political Leader.\\nContent of insight: It always seems impossible until it's done..\\nUseful insight in: Perseverance.\\nThat insight could be helpful in the following way:\\nUse this insight to push through challenging tasks by remembering that many great achievements once seemed impossible. \" metadata={'source': './DB_Book_and_Famous.txt', 'score': 0.5325233}\n",
      "\n",
      "Source of Insight: Nelson Mandela, Political Leader.\n",
      "Content of insight: It always seems impossible until it's done..\n",
      "Useful insight in: Perseverance.\n",
      "That insight could be helpful in the following way:\n",
      "Use this insight to push through challenging tasks by remembering that many great achievements once seemed impossible. \n",
      "{'source': './DB_Book_and_Famous.txt', 'score': 0.5325233}\n",
      "page_content='\\nSource of Insight: Maya Angelou, Poet.\\nContent of insight: You will face many defeats in life, but never let yourself be defeated..\\nUseful insight in: Resilience.\\nThat insight could be helpful in the following way:\\nApply this insight by viewing setbacks as opportunities to learn and grow, maintaining a positive mindset, and persevering through difficult times. ' metadata={'source': './DB_Book_and_Famous.txt', 'score': 0.53381735}\n",
      "\n",
      "Source of Insight: Maya Angelou, Poet.\n",
      "Content of insight: You will face many defeats in life, but never let yourself be defeated..\n",
      "Useful insight in: Resilience.\n",
      "That insight could be helpful in the following way:\n",
      "Apply this insight by viewing setbacks as opportunities to learn and grow, maintaining a positive mindset, and persevering through difficult times. \n",
      "{'source': './DB_Book_and_Famous.txt', 'score': 0.53381735}\n"
     ]
    }
   ],
   "source": [
    "for doc in retrieved_docs_threshold:\n",
    "  print(doc)\n",
    "  print(doc.page_content)\n",
    "  print(doc.metadata)"
   ]
  },
  {
   "cell_type": "code",
   "execution_count": 16,
   "metadata": {},
   "outputs": [
    {
     "name": "stdout",
     "output_type": "stream",
     "text": [
      "page_content='\\nSource of Insight: Pride and Prejudice by Jane Austen.\\nContent of insight: I declare after all there is no enjoyment like reading! How much sooner one tires of anything than of a book!.\\nUseful insight in: Reading.\\nThat insight could be helpful in the following way:\\nEmbrace reading as a source of joy and enrichment, regularly engaging with books to broaden your perspective and knowledge.  ' metadata={'source': './DB_Book_and_Famous.txt'}\n",
      "page_content='Source of Insight: Albert Einstein, Physicist.\\nContent of insight: Life is like riding a bicycle. To keep your balance, you must keep moving..\\nUseful insight in: Motivation.\\nThat insight could be helpful in the following way:\\nUse this insight to remind yourself that continuous effort and progress are essential in overcoming challenges and maintaining stability in life.  ' metadata={'source': './DB_Book_and_Famous.txt'}\n",
      "page_content=\"\\nSource of Insight: Nelson Mandela, Political Leader.\\nContent of insight: It always seems impossible until it's done..\\nUseful insight in: Perseverance.\\nThat insight could be helpful in the following way:\\nUse this insight to push through challenging tasks by remembering that many great achievements once seemed impossible. \" metadata={'source': './DB_Book_and_Famous.txt'}\n"
     ]
    }
   ],
   "source": [
    "for doc in retrieved_docs:\n",
    "  print(doc)"
   ]
  },
  {
   "cell_type": "code",
   "execution_count": null,
   "metadata": {},
   "outputs": [],
   "source": []
  }
 ],
 "metadata": {
  "kernelspec": {
   "display_name": "venv",
   "language": "python",
   "name": "python3"
  },
  "language_info": {
   "codemirror_mode": {
    "name": "ipython",
    "version": 3
   },
   "file_extension": ".py",
   "mimetype": "text/x-python",
   "name": "python",
   "nbconvert_exporter": "python",
   "pygments_lexer": "ipython3",
   "version": "3.11.4"
  }
 },
 "nbformat": 4,
 "nbformat_minor": 2
}
