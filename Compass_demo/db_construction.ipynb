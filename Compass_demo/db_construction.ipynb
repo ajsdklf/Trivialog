{
 "cells": [
  {
   "cell_type": "code",
   "execution_count": 26,
   "metadata": {},
   "outputs": [],
   "source": [
    "from langchain.document_loaders import JSONLoader\n",
    "\n",
    "jq_schema = '.insights[]'\n",
    "\n",
    "loader = JSONLoader(file_path='./DB.json', jq_schema=jq_schema, text_content=False)\n",
    "docs = loader.load()"
   ]
  },
  {
   "cell_type": "code",
   "execution_count": 27,
   "metadata": {},
   "outputs": [
    {
     "data": {
      "text/plain": [
       "list"
      ]
     },
     "execution_count": 27,
     "metadata": {},
     "output_type": "execute_result"
    }
   ],
   "source": [
    "type(docs)"
   ]
  },
  {
   "cell_type": "code",
   "execution_count": 28,
   "metadata": {},
   "outputs": [
    {
     "data": {
      "text/plain": [
       "[Document(page_content='{\"source\": {\"type\": \"person\", \"name\": \"Albert Einstein\", \"profession\": \"Physicist\"}, \"insight\": \"Life is like riding a bicycle. To keep your balance, you must keep moving.\", \"category\": \"Motivation\", \"utilization\": \"Use this insight to remind yourself that continuous effort and progress are essential in overcoming challenges and maintaining stability in life.\"}', metadata={'source': '/Users/gangjimin/Documents/GitHub/Trivialog/Compass_demo/DB.json', 'seq_num': 1}),\n",
       " Document(page_content='{\"source\": {\"type\": \"person\", \"name\": \"Maya Angelou\", \"profession\": \"Poet\"}, \"insight\": \"You will face many defeats in life, but never let yourself be defeated.\", \"category\": \"Resilience\", \"utilization\": \"Apply this insight by viewing setbacks as opportunities to learn and grow, maintaining a positive mindset, and persevering through difficult times.\"}', metadata={'source': '/Users/gangjimin/Documents/GitHub/Trivialog/Compass_demo/DB.json', 'seq_num': 2}),\n",
       " Document(page_content='{\"source\": {\"type\": \"book\", \"title\": \"The Power of Now\", \"author\": \"Eckhart Tolle\"}, \"insight\": \"Realize deeply that the present moment is all you ever have.\", \"category\": \"Mindfulness\", \"utilization\": \"Practice mindfulness and live in the present by focusing on current experiences and sensations, letting go of past regrets and future anxieties.\"}', metadata={'source': '/Users/gangjimin/Documents/GitHub/Trivialog/Compass_demo/DB.json', 'seq_num': 3}),\n",
       " Document(page_content='{\"source\": {\"type\": \"person\", \"name\": \"Nelson Mandela\", \"profession\": \"Political Leader\"}, \"insight\": \"It always seems impossible until it\\'s done.\", \"category\": \"Perseverance\", \"utilization\": \"Use this insight to push through challenging tasks by remembering that many great achievements once seemed impossible.\"}', metadata={'source': '/Users/gangjimin/Documents/GitHub/Trivialog/Compass_demo/DB.json', 'seq_num': 4}),\n",
       " Document(page_content='{\"source\": {\"type\": \"book\", \"title\": \"To Kill a Mockingbird\", \"author\": \"Harper Lee\"}, \"insight\": \"You never really understand a person until you consider things from his point of view... Until you climb inside of his skin and walk around in it.\", \"category\": \"Empathy\", \"utilization\": \"Develop empathy by actively trying to understand and appreciate other people\\'s perspectives and experiences.\"}', metadata={'source': '/Users/gangjimin/Documents/GitHub/Trivialog/Compass_demo/DB.json', 'seq_num': 5}),\n",
       " Document(page_content='{\"source\": {\"type\": \"person\", \"name\": \"Steve Jobs\", \"profession\": \"Entrepreneur\"}, \"insight\": \"Your work is going to fill a large part of your life, and the only way to be truly satisfied is to do what you believe is great work.\", \"category\": \"Career\", \"utilization\": \"Focus on finding and pursuing work that aligns with your passions and values to achieve fulfillment and satisfaction in your career.\"}', metadata={'source': '/Users/gangjimin/Documents/GitHub/Trivialog/Compass_demo/DB.json', 'seq_num': 6}),\n",
       " Document(page_content='{\"source\": {\"type\": \"book\", \"title\": \"Man\\'s Search for Meaning\", \"author\": \"Viktor Frankl\"}, \"insight\": \"When we are no longer able to change a situation, we are challenged to change ourselves.\", \"category\": \"Adaptability\", \"utilization\": \"Embrace adaptability by focusing on how you can change your attitudes, behaviors, and mindset in response to situations beyond your control.\"}', metadata={'source': '/Users/gangjimin/Documents/GitHub/Trivialog/Compass_demo/DB.json', 'seq_num': 7}),\n",
       " Document(page_content='{\"source\": {\"type\": \"person\", \"name\": \"Confucius\", \"profession\": \"Philosopher\"}, \"insight\": \"It does not matter how slowly you go as long as you do not stop.\", \"category\": \"Persistence\", \"utilization\": \"Maintain steady progress towards your goals, regardless of the pace, and avoid giving up when progress seems slow.\"}', metadata={'source': '/Users/gangjimin/Documents/GitHub/Trivialog/Compass_demo/DB.json', 'seq_num': 8}),\n",
       " Document(page_content='{\"source\": {\"type\": \"person\", \"name\": \"Mother Teresa\", \"profession\": \"Humanitarian\"}, \"insight\": \"Not all of us can do great things. But we can do small things with great love.\", \"category\": \"Kindness\", \"utilization\": \"Focus on performing small acts of kindness with a genuine heart to make a positive impact on others\\' lives.\"}', metadata={'source': '/Users/gangjimin/Documents/GitHub/Trivialog/Compass_demo/DB.json', 'seq_num': 9}),\n",
       " Document(page_content='{\"source\": {\"type\": \"book\", \"title\": \"The Alchemist\", \"author\": \"Paulo Coelho\"}, \"insight\": \"And, when you want something, all the universe conspires in helping you to achieve it.\", \"category\": \"Aspiration\", \"utilization\": \"Stay determined and optimistic about your goals, believing that the universe supports your endeavors and opportunities will arise.\"}', metadata={'source': '/Users/gangjimin/Documents/GitHub/Trivialog/Compass_demo/DB.json', 'seq_num': 10}),\n",
       " Document(page_content='{\"source\": {\"type\": \"person\", \"name\": \"Mahatma Gandhi\", \"profession\": \"Leader\"}, \"insight\": \"Be the change that you wish to see in the world.\", \"category\": \"Leadership\", \"utilization\": \"Lead by example and take personal responsibility for creating the changes you want to see in society.\"}', metadata={'source': '/Users/gangjimin/Documents/GitHub/Trivialog/Compass_demo/DB.json', 'seq_num': 11}),\n",
       " Document(page_content='{\"source\": {\"type\": \"book\", \"title\": \"The Seven Habits of Highly Effective People\", \"author\": \"Stephen R. Covey\"}, \"insight\": \"The key is not to prioritize what\\'s on your schedule, but to schedule your priorities.\", \"category\": \"Productivity\", \"utilization\": \"Organize your time by focusing on your most important tasks and goals, rather than just what demands immediate attention.\"}', metadata={'source': '/Users/gangjimin/Documents/GitHub/Trivialog/Compass_demo/DB.json', 'seq_num': 12}),\n",
       " Document(page_content='{\"source\": {\"type\": \"person\", \"name\": \"Winston Churchill\", \"profession\": \"Prime Minister\"}, \"insight\": \"Success is not final, failure is not fatal: It is the courage to continue that counts.\", \"category\": \"Courage\", \"utilization\": \"Embrace resilience by recognizing that both success and failure are temporary, and true strength lies in the perseverance to keep moving forward.\"}', metadata={'source': '/Users/gangjimin/Documents/GitHub/Trivialog/Compass_demo/DB.json', 'seq_num': 13}),\n",
       " Document(page_content='{\"source\": {\"type\": \"book\", \"title\": \"The Road Less Traveled\", \"author\": \"M. Scott Peck\"}, \"insight\": \"Problems do not go away. They must be worked through or else they remain, forever a barrier to the growth and development of the spirit.\", \"category\": \"Growth\", \"utilization\": \"Approach problems proactively by working through them to achieve personal growth and avoid long-term obstacles.\"}', metadata={'source': '/Users/gangjimin/Documents/GitHub/Trivialog/Compass_demo/DB.json', 'seq_num': 14}),\n",
       " Document(page_content='{\"source\": {\"type\": \"person\", \"name\": \"Helen Keller\", \"profession\": \"Author\"}, \"insight\": \"The only thing worse than being blind is having sight but no vision.\", \"category\": \"Vision\", \"utilization\": \"Cultivate a clear vision and purpose in life to guide your actions and decisions, rather than simply going through the motions.\"}', metadata={'source': '/Users/gangjimin/Documents/GitHub/Trivialog/Compass_demo/DB.json', 'seq_num': 15}),\n",
       " Document(page_content='{\"source\": {\"type\": \"book\", \"title\": \"Meditations\", \"author\": \"Marcus Aurelius\"}, \"insight\": \"You have power over your mind\\\\u2014not outside events. Realize this, and you will find strength.\", \"category\": \"Self-Control\", \"utilization\": \"Focus on controlling your thoughts and reactions to build inner strength and resilience against external circumstances.\"}', metadata={'source': '/Users/gangjimin/Documents/GitHub/Trivialog/Compass_demo/DB.json', 'seq_num': 16}),\n",
       " Document(page_content='{\"source\": {\"type\": \"person\", \"name\": \"Oprah Winfrey\", \"profession\": \"Television Host\"}, \"insight\": \"Turn your wounds into wisdom.\", \"category\": \"Healing\", \"utilization\": \"Transform past pain and experiences into valuable lessons that can guide your future actions and decisions.\"}', metadata={'source': '/Users/gangjimin/Documents/GitHub/Trivialog/Compass_demo/DB.json', 'seq_num': 17}),\n",
       " Document(page_content='{\"source\": {\"type\": \"book\", \"title\": \"Thinking, Fast and Slow\", \"author\": \"Daniel Kahneman\"}, \"insight\": \"Nothing in life is as important as you think it is, while you are thinking about it.\", \"category\": \"Perspective\", \"utilization\": \"Maintain perspective by recognizing that immediate concerns often seem more significant than they truly are, helping you to manage stress and make better decisions.\"}', metadata={'source': '/Users/gangjimin/Documents/GitHub/Trivialog/Compass_demo/DB.json', 'seq_num': 18}),\n",
       " Document(page_content='{\"source\": {\"type\": \"person\", \"name\": \"Aristotle\", \"profession\": \"Philosopher\"}, \"insight\": \"We are what we repeatedly do. Excellence, then, is not an act, but a habit.\", \"category\": \"Excellence\", \"utilization\": \"Strive for excellence by developing and maintaining positive habits that contribute to consistent high performance.\"}', metadata={'source': '/Users/gangjimin/Documents/GitHub/Trivialog/Compass_demo/DB.json', 'seq_num': 19}),\n",
       " Document(page_content='{\"source\": {\"type\": \"book\", \"title\": \"Atomic Habits\", \"author\": \"James Clear\"}, \"insight\": \"You do not rise to the level of your goals, you fall to the level of your systems.\", \"category\": \"Habits\", \"utilization\": \"Focus on creating effective systems and processes that support your goals, ensuring consistent progress and achievement.\"}', metadata={'source': '/Users/gangjimin/Documents/GitHub/Trivialog/Compass_demo/DB.json', 'seq_num': 20}),\n",
       " Document(page_content='{\"source\": {\"type\": \"person\", \"name\": \"Marie Curie\", \"profession\": \"Scientist\"}, \"insight\": \"Nothing in life is to be feared, it is only to be understood. Now is the time to understand more, so that we may fear less.\", \"category\": \"Understanding\", \"utilization\": \"Approach fears with a mindset of learning and understanding, reducing anxiety through knowledge and comprehension.\"}', metadata={'source': '/Users/gangjimin/Documents/GitHub/Trivialog/Compass_demo/DB.json', 'seq_num': 21}),\n",
       " Document(page_content='{\"source\": {\"type\": \"book\", \"title\": \"The Art of Happiness\", \"author\": \"Dalai Lama\"}, \"insight\": \"Happiness is not something ready-made. It comes from your own actions.\", \"category\": \"Happiness\", \"utilization\": \"Take proactive steps to cultivate happiness through positive actions, choices, and attitudes in daily life.\"}', metadata={'source': '/Users/gangjimin/Documents/GitHub/Trivialog/Compass_demo/DB.json', 'seq_num': 22}),\n",
       " Document(page_content='{\"source\": {\"type\": \"person\", \"name\": \"Brene Brown\", \"profession\": \"Researcher\"}, \"insight\": \"Vulnerability is not winning or losing; it\\'s having the courage to show up and be seen when we have no control over the outcome.\", \"category\": \"Vulnerability\", \"utilization\": \"Embrace vulnerability by being open and authentic, even when outcomes are uncertain, fostering deeper connections and personal growth.\"}', metadata={'source': '/Users/gangjimin/Documents/GitHub/Trivialog/Compass_demo/DB.json', 'seq_num': 23}),\n",
       " Document(page_content='{\"source\": {\"type\": \"book\", \"title\": \"Daring Greatly\", \"author\": \"Brene Brown\"}, \"insight\": \"Courage starts with showing up and letting ourselves be seen.\", \"category\": \"Courage\", \"utilization\": \"Demonstrate courage by being present and authentic in your interactions, even when it feels uncomfortable or risky.\"}', metadata={'source': '/Users/gangjimin/Documents/GitHub/Trivialog/Compass_demo/DB.json', 'seq_num': 24}),\n",
       " Document(page_content='{\"source\": {\"type\": \"person\", \"name\": \"Ralph Waldo Emerson\", \"profession\": \"Essayist\"}, \"insight\": \"To be yourself in a world that is constantly trying to make you something else is the greatest accomplishment.\", \"category\": \"Authenticity\", \"utilization\": \"Stay true to your values and beliefs, resisting external pressures to conform, and celebrate your unique identity.\"}', metadata={'source': '/Users/gangjimin/Documents/GitHub/Trivialog/Compass_demo/DB.json', 'seq_num': 25}),\n",
       " Document(page_content='{\"source\": {\"type\": \"book\", \"title\": \"The Four Agreements\", \"author\": \"Don Miguel Ruiz\"}, \"insight\": \"Be impeccable with your word. Speak with integrity. Say only what you mean.\", \"category\": \"Integrity\", \"utilization\": \"Practice integrity by being honest and clear in your communication, ensuring your words align with your intentions and actions.\"}', metadata={'source': '/Users/gangjimin/Documents/GitHub/Trivialog/Compass_demo/DB.json', 'seq_num': 26}),\n",
       " Document(page_content='{\"source\": {\"type\": \"person\", \"name\": \"Eleanor Roosevelt\", \"profession\": \"First Lady\"}, \"insight\": \"No one can make you feel inferior without your consent.\", \"category\": \"Self-Esteem\", \"utilization\": \"Build self-esteem by understanding that your self-worth is determined by you, not by others\\' opinions or actions.\"}', metadata={'source': '/Users/gangjimin/Documents/GitHub/Trivialog/Compass_demo/DB.json', 'seq_num': 27}),\n",
       " Document(page_content='{\"source\": {\"type\": \"book\", \"title\": \"The Subtle Art of Not Giving a F*ck\", \"author\": \"Mark Manson\"}, \"insight\": \"You cannot be a powerful and life-changing presence to some people without being a joke or an embarrassment to others. You just can\\'t.\", \"category\": \"Self-Confidence\", \"utilization\": \"Cultivate self-confidence by accepting that you cannot please everyone and focusing on the impact you want to make.\"}', metadata={'source': '/Users/gangjimin/Documents/GitHub/Trivialog/Compass_demo/DB.json', 'seq_num': 28}),\n",
       " Document(page_content='{\"source\": {\"type\": \"person\", \"name\": \"J.K. Rowling\", \"profession\": \"Author\"}, \"insight\": \"It is our choices that show what we truly are, far more than our abilities.\", \"category\": \"Choice\", \"utilization\": \"Make conscious and deliberate choices that reflect your values and aspirations, understanding that your decisions define you.\"}', metadata={'source': '/Users/gangjimin/Documents/GitHub/Trivialog/Compass_demo/DB.json', 'seq_num': 29}),\n",
       " Document(page_content='{\"source\": {\"type\": \"book\", \"title\": \"The Great Gatsby\", \"author\": \"F. Scott Fitzgerald\"}, \"insight\": \"So we beat on, boats against the current, borne back ceaselessly into the past.\", \"category\": \"Perseverance\", \"utilization\": \"Use this insight to accept the persistence of challenges while maintaining hope and continuing to strive for progress.\"}', metadata={'source': '/Users/gangjimin/Documents/GitHub/Trivialog/Compass_demo/DB.json', 'seq_num': 30}),\n",
       " Document(page_content='{\"source\": {\"type\": \"person\", \"name\": \"Leonardo da Vinci\", \"profession\": \"Artist\"}, \"insight\": \"Learning never exhausts the mind.\", \"category\": \"Learning\", \"utilization\": \"Maintain a lifelong curiosity and passion for learning, understanding that knowledge enriches life and fuels personal growth.\"}', metadata={'source': '/Users/gangjimin/Documents/GitHub/Trivialog/Compass_demo/DB.json', 'seq_num': 31}),\n",
       " Document(page_content='{\"source\": {\"type\": \"book\", \"title\": \"1984\", \"author\": \"George Orwell\"}, \"insight\": \"In a time of deceit telling the truth is a revolutionary act.\", \"category\": \"Truth\", \"utilization\": \"Commit to honesty and integrity, recognizing the power of truth in a world where misinformation and deceit are prevalent.\"}', metadata={'source': '/Users/gangjimin/Documents/GitHub/Trivialog/Compass_demo/DB.json', 'seq_num': 32}),\n",
       " Document(page_content='{\"source\": {\"type\": \"person\", \"name\": \"Jane Austen\", \"profession\": \"Author\"}, \"insight\": \"There is no charm equal to tenderness of heart.\", \"category\": \"Compassion\", \"utilization\": \"Foster compassion by being kind and understanding towards others, appreciating the beauty of a tender and empathetic heart.\"}', metadata={'source': '/Users/gangjimin/Documents/GitHub/Trivialog/Compass_demo/DB.json', 'seq_num': 33}),\n",
       " Document(page_content='{\"source\": {\"type\": \"book\", \"title\": \"Pride and Prejudice\", \"author\": \"Jane Austen\"}, \"insight\": \"I declare after all there is no enjoyment like reading! How much sooner one tires of anything than of a book!\", \"category\": \"Reading\", \"utilization\": \"Embrace reading as a source of joy and enrichment, regularly engaging with books to broaden your perspective and knowledge.\"}', metadata={'source': '/Users/gangjimin/Documents/GitHub/Trivialog/Compass_demo/DB.json', 'seq_num': 34}),\n",
       " Document(page_content='{\"source\": {\"type\": \"person\", \"name\": \"Mark Twain\", \"profession\": \"Writer\"}, \"insight\": \"The secret of getting ahead is getting started.\", \"category\": \"Action\", \"utilization\": \"Overcome procrastination by taking the first step towards your goals, understanding that action is the key to progress.\"}', metadata={'source': '/Users/gangjimin/Documents/GitHub/Trivialog/Compass_demo/DB.json', 'seq_num': 35}),\n",
       " Document(page_content='{\"source\": {\"type\": \"book\", \"title\": \"The Catcher in the Rye\", \"author\": \"J.D. Salinger\"}, \"insight\": \"People always clap for the wrong reasons.\", \"category\": \"Society\", \"utilization\": \"Develop critical thinking by questioning societal norms and motivations, recognizing that popular approval is not always a sign of true value.\"}', metadata={'source': '/Users/gangjimin/Documents/GitHub/Trivialog/Compass_demo/DB.json', 'seq_num': 36}),\n",
       " Document(page_content='{\"source\": {\"type\": \"person\", \"name\": \"Charles Dickens\", \"profession\": \"Writer\"}, \"insight\": \"No one is useless in this world who lightens the burdens of another.\", \"category\": \"Service\", \"utilization\": \"Contribute to the well-being of others by offering help and support, understanding that even small acts of kindness have significant value.\"}', metadata={'source': '/Users/gangjimin/Documents/GitHub/Trivialog/Compass_demo/DB.json', 'seq_num': 37}),\n",
       " Document(page_content='{\"source\": {\"type\": \"book\", \"title\": \"A Tale of Two Cities\", \"author\": \"Charles Dickens\"}, \"insight\": \"It was the best of times, it was the worst of times.\", \"category\": \"Life\", \"utilization\": \"Acknowledge the duality of life, accepting that good and bad times coexist, and find balance by appreciating both.\"}', metadata={'source': '/Users/gangjimin/Documents/GitHub/Trivialog/Compass_demo/DB.json', 'seq_num': 38})]"
      ]
     },
     "execution_count": 28,
     "metadata": {},
     "output_type": "execute_result"
    }
   ],
   "source": [
    "docs"
   ]
  },
  {
   "cell_type": "code",
   "execution_count": 37,
   "metadata": {},
   "outputs": [],
   "source": [
    "import json\n",
    "\n",
    "def format_document_content(document_dict):\n",
    "    if document_dict['source']['type'] == 'person':\n",
    "        source = f\"{document_dict['source']['name']}, {document_dict['source']['profession']}\"\n",
    "    else:\n",
    "        source = f\"{document_dict['source']['title']} by {document_dict['source']['author']}\"\n",
    "    \n",
    "    document_content = f\"\"\"\n",
    "Source of Insight: {source}.\n",
    "Content of insight: {document_dict['insight']}.\n",
    "Useful insight in: {document_dict['category']}.\n",
    "That insight could be helpful in the following way:\n",
    "{document_dict['utilization']}\n",
    "\"\"\"\n",
    "    return document_content\n",
    "\n",
    "with open(\"DB.txt\", \"a\") as file:\n",
    "    for i in range(len(docs)):\n",
    "        document = docs[i].page_content\n",
    "        document_dict = json.loads(document)\n",
    "        data = format_document_content(document_dict)\n",
    "        file.write(data + '\\n')"
   ]
  },
  {
   "cell_type": "code",
   "execution_count": 29,
   "metadata": {},
   "outputs": [
    {
     "data": {
      "text/plain": [
       "Document(page_content='{\"source\": {\"type\": \"person\", \"name\": \"Albert Einstein\", \"profession\": \"Physicist\"}, \"insight\": \"Life is like riding a bicycle. To keep your balance, you must keep moving.\", \"category\": \"Motivation\", \"utilization\": \"Use this insight to remind yourself that continuous effort and progress are essential in overcoming challenges and maintaining stability in life.\"}', metadata={'source': '/Users/gangjimin/Documents/GitHub/Trivialog/Compass_demo/DB.json', 'seq_num': 1})"
      ]
     },
     "execution_count": 29,
     "metadata": {},
     "output_type": "execute_result"
    }
   ],
   "source": [
    "docs[0]"
   ]
  },
  {
   "cell_type": "code",
   "execution_count": 30,
   "metadata": {},
   "outputs": [],
   "source": [
    "docs_0 = docs[0].page_content"
   ]
  },
  {
   "cell_type": "code",
   "execution_count": 31,
   "metadata": {},
   "outputs": [
    {
     "data": {
      "text/plain": [
       "'{\"source\": {\"type\": \"person\", \"name\": \"Albert Einstein\", \"profession\": \"Physicist\"}, \"insight\": \"Life is like riding a bicycle. To keep your balance, you must keep moving.\", \"category\": \"Motivation\", \"utilization\": \"Use this insight to remind yourself that continuous effort and progress are essential in overcoming challenges and maintaining stability in life.\"}'"
      ]
     },
     "execution_count": 31,
     "metadata": {},
     "output_type": "execute_result"
    }
   ],
   "source": [
    "docs_0"
   ]
  },
  {
   "cell_type": "code",
   "execution_count": 32,
   "metadata": {},
   "outputs": [],
   "source": [
    "import json \n",
    "\n",
    "docs_0_dict = json.loads(docs_0)"
   ]
  },
  {
   "cell_type": "code",
   "execution_count": 33,
   "metadata": {},
   "outputs": [
    {
     "data": {
      "text/plain": [
       "{'source': {'type': 'person',\n",
       "  'name': 'Albert Einstein',\n",
       "  'profession': 'Physicist'},\n",
       " 'insight': 'Life is like riding a bicycle. To keep your balance, you must keep moving.',\n",
       " 'category': 'Motivation',\n",
       " 'utilization': 'Use this insight to remind yourself that continuous effort and progress are essential in overcoming challenges and maintaining stability in life.'}"
      ]
     },
     "execution_count": 33,
     "metadata": {},
     "output_type": "execute_result"
    }
   ],
   "source": [
    "docs_0_dict"
   ]
  },
  {
   "cell_type": "code",
   "execution_count": 34,
   "metadata": {},
   "outputs": [
    {
     "data": {
      "text/plain": [
       "'Life is like riding a bicycle. To keep your balance, you must keep moving.'"
      ]
     },
     "execution_count": 34,
     "metadata": {},
     "output_type": "execute_result"
    }
   ],
   "source": [
    "docs_0_dict['insight']"
   ]
  },
  {
   "cell_type": "code",
   "execution_count": 35,
   "metadata": {},
   "outputs": [
    {
     "data": {
      "text/plain": [
       "'Use this insight to remind yourself that continuous effort and progress are essential in overcoming challenges and maintaining stability in life.'"
      ]
     },
     "execution_count": 35,
     "metadata": {},
     "output_type": "execute_result"
    }
   ],
   "source": [
    "docs_0_dict['utilization']"
   ]
  },
  {
   "cell_type": "code",
   "execution_count": null,
   "metadata": {},
   "outputs": [],
   "source": []
  },
  {
   "cell_type": "code",
   "execution_count": 1,
   "metadata": {},
   "outputs": [],
   "source": [
    "from langchain.document_loaders import TextLoader\n",
    "from langchain.text_splitter import CharacterTextSplitter\n",
    "\n",
    "class CustomTextSplitter(CharacterTextSplitter):\n",
    "    def __init__(self, delimiter='/', **kwargs):\n",
    "        super().__init__(**kwargs)\n",
    "        self.delimiter = delimiter\n",
    "\n",
    "    def split_text(self, text: str):\n",
    "        return text.split(self.delimiter)"
   ]
  },
  {
   "cell_type": "code",
   "execution_count": 2,
   "metadata": {},
   "outputs": [
    {
     "name": "stdout",
     "output_type": "stream",
     "text": [
      "[Document(page_content=\"Source of Insight: Albert Einstein, Physicist.\\nContent of insight: Life is like riding a bicycle. To keep your balance, you must keep moving..\\nUseful insight in: Motivation.\\nThat insight could be helpful in the following way:\\nUse this insight to remind yourself that continuous effort and progress are essential in overcoming challenges and maintaining stability in life.  \\n\\n\\nSource of Insight: Maya Angelou, Poet.\\nContent of insight: You will face many defeats in life, but never let yourself be defeated..\\nUseful insight in: Resilience.\\nThat insight could be helpful in the following way:\\nApply this insight by viewing setbacks as opportunities to learn and grow, maintaining a positive mindset, and persevering through difficult times. \\n\\n\\nSource of Insight: The Power of Now by Eckhart Tolle.\\nContent of insight: Realize deeply that the present moment is all you ever have..\\nUseful insight in: Mindfulness.\\nThat insight could be helpful in the following way:\\nPractice mindfulness and live in the present by focusing on current experiences and sensations, letting go of past regrets and future anxieties.  \\n\\n\\nSource of Insight: Nelson Mandela, Political Leader.\\nContent of insight: It always seems impossible until it's done..\\nUseful insight in: Perseverance.\\nThat insight could be helpful in the following way:\\nUse this insight to push through challenging tasks by remembering that many great achievements once seemed impossible. \\n\\n\\nSource of Insight: To Kill a Mockingbird by Harper Lee.\\nContent of insight: You never really understand a person until you consider things from his point of view... Until you climb inside of his skin and walk around in it..\\nUseful insight in: Empathy.\\nThat insight could be helpful in the following way:\\nDevelop empathy by actively trying to understand and appreciate other people's perspectives and experiences. \\n\\n\\nSource of Insight: Steve Jobs, Entrepreneur.\\nContent of insight: Your work is going to fill a large part of your life, and the only way to be truly satisfied is to do what you believe is great work..\\nUseful insight in: Career.\\nThat insight could be helpful in the following way:\\nFocus on finding and pursuing work that aligns with your passions and values to achieve fulfillment and satisfaction in your career. \\n\\n\\nSource of Insight: Man's Search for Meaning by Viktor Frankl.\\nContent of insight: When we are no longer able to change a situation, we are challenged to change ourselves..\\nUseful insight in: Adaptability.\\nThat insight could be helpful in the following way:\\nEmbrace adaptability by focusing on how you can change your attitudes, behaviors, and mindset in response to situations beyond your control. \\n\\n\\nSource of Insight: Confucius, Philosopher.\\nContent of insight: It does not matter how slowly you go as long as you do not stop..\\nUseful insight in: Persistence.\\nThat insight could be helpful in the following way:\\nMaintain steady progress towards your goals, regardless of the pace, and avoid giving up when progress seems slow.  \\n\\n\\nSource of Insight: Mother Teresa, Humanitarian.\\nContent of insight: Not all of us can do great things. But we can do small things with great love..\\nUseful insight in: Kindness.\\nThat insight could be helpful in the following way:\\nFocus on performing small acts of kindness with a genuine heart to make a positive impact on others' lives.  \\n\\n\\nSource of Insight: The Alchemist by Paulo Coelho.\\nContent of insight: And, when you want something, all the universe conspires in helping you to achieve it..\\nUseful insight in: Aspiration.\\nThat insight could be helpful in the following way:\\nStay determined and optimistic about your goals, believing that the universe supports your endeavors and opportunities will arise.  \\n\\n\\nSource of Insight: Mahatma Gandhi, Leader.\\nContent of insight: Be the change that you wish to see in the world..\\nUseful insight in: Leadership.\\nThat insight could be helpful in the following way:\\nLead by example and take personal responsibility for creating the changes you want to see in society.  \\n\\n\\nSource of Insight: The Seven Habits of Highly Effective People by Stephen R. Covey.\\nContent of insight: The key is not to prioritize what's on your schedule, but to schedule your priorities..\\nUseful insight in: Productivity.\\nThat insight could be helpful in the following way:\\nOrganize your time by focusing on your most important tasks and goals, rather than just what demands immediate attention.  \\n\\n\\nSource of Insight: Winston Churchill, Prime Minister.\\nContent of insight: Success is not final, failure is not fatal: It is the courage to continue that counts..\\nUseful insight in: Courage.\\nThat insight could be helpful in the following way:\\nEmbrace resilience by recognizing that both success and failure are temporary, and true strength lies in the perseverance to keep moving forward.  \\n\\n\\nSource of Insight: The Road Less Traveled by M. Scott Peck.\\nContent of insight: Problems do not go away. They must be worked through or else they remain, forever a barrier to the growth and development of the spirit..\\nUseful insight in: Growth.\\nThat insight could be helpful in the following way:\\nApproach problems proactively by working through them to achieve personal growth and avoid long-term obstacles.  \\n\\n\\nSource of Insight: Helen Keller, Author.\\nContent of insight: The only thing worse than being blind is having sight but no vision..\\nUseful insight in: Vision.\\nThat insight could be helpful in the following way:\\nCultivate a clear vision and purpose in life to guide your actions and decisions, rather than simply going through the motions.  \\n\\n\\nSource of Insight: Meditations by Marcus Aurelius.\\nContent of insight: You have power over your mind—not outside events. Realize this, and you will find strength..\\nUseful insight in: Self-Control.\\nThat insight could be helpful in the following way:\\nFocus on controlling your thoughts and reactions to build inner strength and resilience against external circumstances.  \\n\\n\\nSource of Insight: Oprah Winfrey, Television Host.\\nContent of insight: Turn your wounds into wisdom..\\nUseful insight in: Healing.\\nThat insight could be helpful in the following way:\\nTransform past pain and experiences into valuable lessons that can guide your future actions and decisions.  \\n\\n\\nSource of Insight: Thinking, Fast and Slow by Daniel Kahneman.\\nContent of insight: Nothing in life is as important as you think it is, while you are thinking about it..\\nUseful insight in: Perspective.\\nThat insight could be helpful in the following way:\\nMaintain perspective by recognizing that immediate concerns often seem more significant than they truly are, helping you to manage stress and make better decisions.  \\n\\n\\nSource of Insight: Aristotle, Philosopher.\\nContent of insight: We are what we repeatedly do. Excellence, then, is not an act, but a habit..\\nUseful insight in: Excellence.\\nThat insight could be helpful in the following way:\\nStrive for excellence by developing and maintaining positive habits that contribute to consistent high performance.  \\n\\n\\nSource of Insight: Atomic Habits by James Clear.\\nContent of insight: You do not rise to the level of your goals, you fall to the level of your systems..\\nUseful insight in: Habits.\\nThat insight could be helpful in the following way:\\nFocus on creating effective systems and processes that support your goals, ensuring consistent progress and achievement.  \\n\\n\\nSource of Insight: Marie Curie, Scientist.\\nContent of insight: Nothing in life is to be feared, it is only to be understood. Now is the time to understand more, so that we may fear less..\\nUseful insight in: Understanding.\\nThat insight could be helpful in the following way:\\nApproach fears with a mindset of learning and understanding, reducing anxiety through knowledge and comprehension.  \\n\\n\\nSource of Insight: The Art of Happiness by Dalai Lama.\\nContent of insight: Happiness is not something ready-made. It comes from your own actions..\\nUseful insight in: Happiness.\\nThat insight could be helpful in the following way:\\nTake proactive steps to cultivate happiness through positive actions, choices, and attitudes in daily life.  \\n\\n\\nSource of Insight: Brene Brown, Researcher.\\nContent of insight: Vulnerability is not winning or losing; it's having the courage to show up and be seen when we have no control over the outcome..\\nUseful insight in: Vulnerability.\\nThat insight could be helpful in the following way:\\nEmbrace vulnerability by being open and authentic, even when outcomes are uncertain, fostering deeper connections and personal growth.  \\n\\n\\nSource of Insight: Daring Greatly by Brene Brown.\\nContent of insight: Courage starts with showing up and letting ourselves be seen..\\nUseful insight in: Courage.\\nThat insight could be helpful in the following way:\\nDemonstrate courage by being present and authentic in your interactions, even when it feels uncomfortable or risky.  \\n\\n\\nSource of Insight: Ralph Waldo Emerson, Essayist.\\nContent of insight: To be yourself in a world that is constantly trying to make you something else is the greatest accomplishment..\\nUseful insight in: Authenticity.\\nThat insight could be helpful in the following way:\\nStay true to your values and beliefs, resisting external pressures to conform, and celebrate your unique identity.  \\n\\n\\nSource of Insight: The Four Agreements by Don Miguel Ruiz.\\nContent of insight: Be impeccable with your word. Speak with integrity. Say only what you mean..\\nUseful insight in: Integrity.\\nThat insight could be helpful in the following way:\\nPractice integrity by being honest and clear in your communication, ensuring your words align with your intentions and actions.  \\n\\n\\nSource of Insight: Eleanor Roosevelt, First Lady.\\nContent of insight: No one can make you feel inferior without your consent..\\nUseful insight in: Self-Esteem.\\nThat insight could be helpful in the following way:\\nBuild self-esteem by understanding that your self-worth is determined by you, not by others' opinions or actions.  \\n\\n\\nSource of Insight: The Subtle Art of Not Giving a F*ck by Mark Manson.\\nContent of insight: You cannot be a powerful and life-changing presence to some people without being a joke or an embarrassment to others. You just can't..\\nUseful insight in: Self-Confidence.\\nThat insight could be helpful in the following way:\\nCultivate self-confidence by accepting that you cannot please everyone and focusing on the impact you want to make.  \\n\\n\\nSource of Insight: J.K. Rowling, Author.\\nContent of insight: It is our choices that show what we truly are, far more than our abilities..\\nUseful insight in: Choice.\\nThat insight could be helpful in the following way:\\nMake conscious and deliberate choices that reflect your values and aspirations, understanding that your decisions define you.  \\n\\n\\nSource of Insight: The Great Gatsby by F. Scott Fitzgerald.\\nContent of insight: So we beat on, boats against the current, borne back ceaselessly into the past..\\nUseful insight in: Perseverance.\\nThat insight could be helpful in the following way:\\nUse this insight to accept the persistence of challenges while maintaining hope and continuing to strive for progress.  \\n\\n\\nSource of Insight: Leonardo da Vinci, Artist.\\nContent of insight: Learning never exhausts the mind..\\nUseful insight in: Learning.\\nThat insight could be helpful in the following way:\\nMaintain a lifelong curiosity and passion for learning, understanding that knowledge enriches life and fuels personal growth.  \\n\\n\\nSource of Insight: 1984 by George Orwell.\\nContent of insight: In a time of deceit telling the truth is a revolutionary act..\\nUseful insight in: Truth.\\nThat insight could be helpful in the following way:\\nCommit to honesty and integrity, recognizing the power of truth in a world where misinformation and deceit are prevalent.  \\n\\n\\nSource of Insight: Jane Austen, Author.\\nContent of insight: There is no charm equal to tenderness of heart..\\nUseful insight in: Compassion.\\nThat insight could be helpful in the following way:\\nFoster compassion by being kind and understanding towards others, appreciating the beauty of a tender and empathetic heart.  \\n\\n\\nSource of Insight: Pride and Prejudice by Jane Austen.\\nContent of insight: I declare after all there is no enjoyment like reading! How much sooner one tires of anything than of a book!.\\nUseful insight in: Reading.\\nThat insight could be helpful in the following way:\\nEmbrace reading as a source of joy and enrichment, regularly engaging with books to broaden your perspective and knowledge.  \\n\\n\\nSource of Insight: Mark Twain, Writer.\\nContent of insight: The secret of getting ahead is getting started..\\nUseful insight in: Action.\\nThat insight could be helpful in the following way:\\nOvercome procrastination by taking the first step towards your goals, understanding that action is the key to progress.  \\n\\n\\nSource of Insight: The Catcher in the Rye by J.D. Salinger.\\nContent of insight: People always clap for the wrong reasons..\\nUseful insight in: Society.\\nThat insight could be helpful in the following way:\\nDevelop critical thinking by questioning societal norms and motivations, recognizing that popular approval is not always a sign of true value.  \\n\\n\\nSource of Insight: Charles Dickens, Writer.\\nContent of insight: No one is useless in this world who lightens the burdens of another..\\nUseful insight in: Service.\\nThat insight could be helpful in the following way:\\nContribute to the well-being of others by offering help and support, understanding that even small acts of kindness have significant value.  \\n\\n\\nSource of Insight: A Tale of Two Cities by Charles Dickens.\\nContent of insight: It was the best of times, it was the worst of times..\\nUseful insight in: Life.\\nThat insight could be helpful in the following way:\\nAcknowledge the duality of life, accepting that good and bad times coexist, and find balance by appreciating both.  \\n\", metadata={'source': './DB_Book_and_Famous.txt'})]\n",
      "1\n",
      "38\n",
      "page_content='Source of Insight: Albert Einstein, Physicist.\\nContent of insight: Life is like riding a bicycle. To keep your balance, you must keep moving..\\nUseful insight in: Motivation.\\nThat insight could be helpful in the following way:\\nUse this insight to remind yourself that continuous effort and progress are essential in overcoming challenges and maintaining stability in life.  ' metadata={'source': './DB_Book_and_Famous.txt'}\n",
      "page_content='\\nSource of Insight: Maya Angelou, Poet.\\nContent of insight: You will face many defeats in life, but never let yourself be defeated..\\nUseful insight in: Resilience.\\nThat insight could be helpful in the following way:\\nApply this insight by viewing setbacks as opportunities to learn and grow, maintaining a positive mindset, and persevering through difficult times. ' metadata={'source': './DB_Book_and_Famous.txt'}\n",
      "page_content='\\nSource of Insight: The Power of Now by Eckhart Tolle.\\nContent of insight: Realize deeply that the present moment is all you ever have..\\nUseful insight in: Mindfulness.\\nThat insight could be helpful in the following way:\\nPractice mindfulness and live in the present by focusing on current experiences and sensations, letting go of past regrets and future anxieties.  ' metadata={'source': './DB_Book_and_Famous.txt'}\n",
      "page_content=\"\\nSource of Insight: Nelson Mandela, Political Leader.\\nContent of insight: It always seems impossible until it's done..\\nUseful insight in: Perseverance.\\nThat insight could be helpful in the following way:\\nUse this insight to push through challenging tasks by remembering that many great achievements once seemed impossible. \" metadata={'source': './DB_Book_and_Famous.txt'}\n",
      "page_content=\"\\nSource of Insight: To Kill a Mockingbird by Harper Lee.\\nContent of insight: You never really understand a person until you consider things from his point of view... Until you climb inside of his skin and walk around in it..\\nUseful insight in: Empathy.\\nThat insight could be helpful in the following way:\\nDevelop empathy by actively trying to understand and appreciate other people's perspectives and experiences. \" metadata={'source': './DB_Book_and_Famous.txt'}\n",
      "page_content='\\nSource of Insight: Steve Jobs, Entrepreneur.\\nContent of insight: Your work is going to fill a large part of your life, and the only way to be truly satisfied is to do what you believe is great work..\\nUseful insight in: Career.\\nThat insight could be helpful in the following way:\\nFocus on finding and pursuing work that aligns with your passions and values to achieve fulfillment and satisfaction in your career. ' metadata={'source': './DB_Book_and_Famous.txt'}\n",
      "page_content=\"\\nSource of Insight: Man's Search for Meaning by Viktor Frankl.\\nContent of insight: When we are no longer able to change a situation, we are challenged to change ourselves..\\nUseful insight in: Adaptability.\\nThat insight could be helpful in the following way:\\nEmbrace adaptability by focusing on how you can change your attitudes, behaviors, and mindset in response to situations beyond your control. \" metadata={'source': './DB_Book_and_Famous.txt'}\n",
      "page_content='\\nSource of Insight: Confucius, Philosopher.\\nContent of insight: It does not matter how slowly you go as long as you do not stop..\\nUseful insight in: Persistence.\\nThat insight could be helpful in the following way:\\nMaintain steady progress towards your goals, regardless of the pace, and avoid giving up when progress seems slow.  ' metadata={'source': './DB_Book_and_Famous.txt'}\n",
      "page_content=\"\\nSource of Insight: Mother Teresa, Humanitarian.\\nContent of insight: Not all of us can do great things. But we can do small things with great love..\\nUseful insight in: Kindness.\\nThat insight could be helpful in the following way:\\nFocus on performing small acts of kindness with a genuine heart to make a positive impact on others' lives.  \" metadata={'source': './DB_Book_and_Famous.txt'}\n",
      "page_content='\\nSource of Insight: The Alchemist by Paulo Coelho.\\nContent of insight: And, when you want something, all the universe conspires in helping you to achieve it..\\nUseful insight in: Aspiration.\\nThat insight could be helpful in the following way:\\nStay determined and optimistic about your goals, believing that the universe supports your endeavors and opportunities will arise.  ' metadata={'source': './DB_Book_and_Famous.txt'}\n",
      "page_content='\\nSource of Insight: Mahatma Gandhi, Leader.\\nContent of insight: Be the change that you wish to see in the world..\\nUseful insight in: Leadership.\\nThat insight could be helpful in the following way:\\nLead by example and take personal responsibility for creating the changes you want to see in society.  ' metadata={'source': './DB_Book_and_Famous.txt'}\n",
      "page_content=\"\\nSource of Insight: The Seven Habits of Highly Effective People by Stephen R. Covey.\\nContent of insight: The key is not to prioritize what's on your schedule, but to schedule your priorities..\\nUseful insight in: Productivity.\\nThat insight could be helpful in the following way:\\nOrganize your time by focusing on your most important tasks and goals, rather than just what demands immediate attention.  \" metadata={'source': './DB_Book_and_Famous.txt'}\n",
      "page_content='\\nSource of Insight: Winston Churchill, Prime Minister.\\nContent of insight: Success is not final, failure is not fatal: It is the courage to continue that counts..\\nUseful insight in: Courage.\\nThat insight could be helpful in the following way:\\nEmbrace resilience by recognizing that both success and failure are temporary, and true strength lies in the perseverance to keep moving forward.  ' metadata={'source': './DB_Book_and_Famous.txt'}\n",
      "page_content='\\nSource of Insight: The Road Less Traveled by M. Scott Peck.\\nContent of insight: Problems do not go away. They must be worked through or else they remain, forever a barrier to the growth and development of the spirit..\\nUseful insight in: Growth.\\nThat insight could be helpful in the following way:\\nApproach problems proactively by working through them to achieve personal growth and avoid long-term obstacles.  ' metadata={'source': './DB_Book_and_Famous.txt'}\n",
      "page_content='\\nSource of Insight: Helen Keller, Author.\\nContent of insight: The only thing worse than being blind is having sight but no vision..\\nUseful insight in: Vision.\\nThat insight could be helpful in the following way:\\nCultivate a clear vision and purpose in life to guide your actions and decisions, rather than simply going through the motions.  ' metadata={'source': './DB_Book_and_Famous.txt'}\n",
      "page_content='\\nSource of Insight: Meditations by Marcus Aurelius.\\nContent of insight: You have power over your mind—not outside events. Realize this, and you will find strength..\\nUseful insight in: Self-Control.\\nThat insight could be helpful in the following way:\\nFocus on controlling your thoughts and reactions to build inner strength and resilience against external circumstances.  ' metadata={'source': './DB_Book_and_Famous.txt'}\n",
      "page_content='\\nSource of Insight: Oprah Winfrey, Television Host.\\nContent of insight: Turn your wounds into wisdom..\\nUseful insight in: Healing.\\nThat insight could be helpful in the following way:\\nTransform past pain and experiences into valuable lessons that can guide your future actions and decisions.  ' metadata={'source': './DB_Book_and_Famous.txt'}\n",
      "page_content='\\nSource of Insight: Thinking, Fast and Slow by Daniel Kahneman.\\nContent of insight: Nothing in life is as important as you think it is, while you are thinking about it..\\nUseful insight in: Perspective.\\nThat insight could be helpful in the following way:\\nMaintain perspective by recognizing that immediate concerns often seem more significant than they truly are, helping you to manage stress and make better decisions.  ' metadata={'source': './DB_Book_and_Famous.txt'}\n",
      "page_content='\\nSource of Insight: Aristotle, Philosopher.\\nContent of insight: We are what we repeatedly do. Excellence, then, is not an act, but a habit..\\nUseful insight in: Excellence.\\nThat insight could be helpful in the following way:\\nStrive for excellence by developing and maintaining positive habits that contribute to consistent high performance.  ' metadata={'source': './DB_Book_and_Famous.txt'}\n",
      "page_content='\\nSource of Insight: Atomic Habits by James Clear.\\nContent of insight: You do not rise to the level of your goals, you fall to the level of your systems..\\nUseful insight in: Habits.\\nThat insight could be helpful in the following way:\\nFocus on creating effective systems and processes that support your goals, ensuring consistent progress and achievement.  ' metadata={'source': './DB_Book_and_Famous.txt'}\n",
      "page_content='\\nSource of Insight: Marie Curie, Scientist.\\nContent of insight: Nothing in life is to be feared, it is only to be understood. Now is the time to understand more, so that we may fear less..\\nUseful insight in: Understanding.\\nThat insight could be helpful in the following way:\\nApproach fears with a mindset of learning and understanding, reducing anxiety through knowledge and comprehension.  ' metadata={'source': './DB_Book_and_Famous.txt'}\n",
      "page_content='\\nSource of Insight: The Art of Happiness by Dalai Lama.\\nContent of insight: Happiness is not something ready-made. It comes from your own actions..\\nUseful insight in: Happiness.\\nThat insight could be helpful in the following way:\\nTake proactive steps to cultivate happiness through positive actions, choices, and attitudes in daily life.  ' metadata={'source': './DB_Book_and_Famous.txt'}\n",
      "page_content=\"\\nSource of Insight: Brene Brown, Researcher.\\nContent of insight: Vulnerability is not winning or losing; it's having the courage to show up and be seen when we have no control over the outcome..\\nUseful insight in: Vulnerability.\\nThat insight could be helpful in the following way:\\nEmbrace vulnerability by being open and authentic, even when outcomes are uncertain, fostering deeper connections and personal growth.  \" metadata={'source': './DB_Book_and_Famous.txt'}\n",
      "page_content='\\nSource of Insight: Daring Greatly by Brene Brown.\\nContent of insight: Courage starts with showing up and letting ourselves be seen..\\nUseful insight in: Courage.\\nThat insight could be helpful in the following way:\\nDemonstrate courage by being present and authentic in your interactions, even when it feels uncomfortable or risky.  ' metadata={'source': './DB_Book_and_Famous.txt'}\n",
      "page_content='\\nSource of Insight: Ralph Waldo Emerson, Essayist.\\nContent of insight: To be yourself in a world that is constantly trying to make you something else is the greatest accomplishment..\\nUseful insight in: Authenticity.\\nThat insight could be helpful in the following way:\\nStay true to your values and beliefs, resisting external pressures to conform, and celebrate your unique identity.  ' metadata={'source': './DB_Book_and_Famous.txt'}\n",
      "page_content='\\nSource of Insight: The Four Agreements by Don Miguel Ruiz.\\nContent of insight: Be impeccable with your word. Speak with integrity. Say only what you mean..\\nUseful insight in: Integrity.\\nThat insight could be helpful in the following way:\\nPractice integrity by being honest and clear in your communication, ensuring your words align with your intentions and actions.  ' metadata={'source': './DB_Book_and_Famous.txt'}\n",
      "page_content=\"\\nSource of Insight: Eleanor Roosevelt, First Lady.\\nContent of insight: No one can make you feel inferior without your consent..\\nUseful insight in: Self-Esteem.\\nThat insight could be helpful in the following way:\\nBuild self-esteem by understanding that your self-worth is determined by you, not by others' opinions or actions.  \" metadata={'source': './DB_Book_and_Famous.txt'}\n",
      "page_content=\"\\nSource of Insight: The Subtle Art of Not Giving a F*ck by Mark Manson.\\nContent of insight: You cannot be a powerful and life-changing presence to some people without being a joke or an embarrassment to others. You just can't..\\nUseful insight in: Self-Confidence.\\nThat insight could be helpful in the following way:\\nCultivate self-confidence by accepting that you cannot please everyone and focusing on the impact you want to make.  \" metadata={'source': './DB_Book_and_Famous.txt'}\n",
      "page_content='\\nSource of Insight: J.K. Rowling, Author.\\nContent of insight: It is our choices that show what we truly are, far more than our abilities..\\nUseful insight in: Choice.\\nThat insight could be helpful in the following way:\\nMake conscious and deliberate choices that reflect your values and aspirations, understanding that your decisions define you.  ' metadata={'source': './DB_Book_and_Famous.txt'}\n",
      "page_content='\\nSource of Insight: The Great Gatsby by F. Scott Fitzgerald.\\nContent of insight: So we beat on, boats against the current, borne back ceaselessly into the past..\\nUseful insight in: Perseverance.\\nThat insight could be helpful in the following way:\\nUse this insight to accept the persistence of challenges while maintaining hope and continuing to strive for progress.  ' metadata={'source': './DB_Book_and_Famous.txt'}\n",
      "page_content='\\nSource of Insight: Leonardo da Vinci, Artist.\\nContent of insight: Learning never exhausts the mind..\\nUseful insight in: Learning.\\nThat insight could be helpful in the following way:\\nMaintain a lifelong curiosity and passion for learning, understanding that knowledge enriches life and fuels personal growth.  ' metadata={'source': './DB_Book_and_Famous.txt'}\n",
      "page_content='\\nSource of Insight: 1984 by George Orwell.\\nContent of insight: In a time of deceit telling the truth is a revolutionary act..\\nUseful insight in: Truth.\\nThat insight could be helpful in the following way:\\nCommit to honesty and integrity, recognizing the power of truth in a world where misinformation and deceit are prevalent.  ' metadata={'source': './DB_Book_and_Famous.txt'}\n",
      "page_content='\\nSource of Insight: Jane Austen, Author.\\nContent of insight: There is no charm equal to tenderness of heart..\\nUseful insight in: Compassion.\\nThat insight could be helpful in the following way:\\nFoster compassion by being kind and understanding towards others, appreciating the beauty of a tender and empathetic heart.  ' metadata={'source': './DB_Book_and_Famous.txt'}\n",
      "page_content='\\nSource of Insight: Pride and Prejudice by Jane Austen.\\nContent of insight: I declare after all there is no enjoyment like reading! How much sooner one tires of anything than of a book!.\\nUseful insight in: Reading.\\nThat insight could be helpful in the following way:\\nEmbrace reading as a source of joy and enrichment, regularly engaging with books to broaden your perspective and knowledge.  ' metadata={'source': './DB_Book_and_Famous.txt'}\n",
      "page_content='\\nSource of Insight: Mark Twain, Writer.\\nContent of insight: The secret of getting ahead is getting started..\\nUseful insight in: Action.\\nThat insight could be helpful in the following way:\\nOvercome procrastination by taking the first step towards your goals, understanding that action is the key to progress.  ' metadata={'source': './DB_Book_and_Famous.txt'}\n",
      "page_content='\\nSource of Insight: The Catcher in the Rye by J.D. Salinger.\\nContent of insight: People always clap for the wrong reasons..\\nUseful insight in: Society.\\nThat insight could be helpful in the following way:\\nDevelop critical thinking by questioning societal norms and motivations, recognizing that popular approval is not always a sign of true value.  ' metadata={'source': './DB_Book_and_Famous.txt'}\n",
      "page_content='\\nSource of Insight: Charles Dickens, Writer.\\nContent of insight: No one is useless in this world who lightens the burdens of another..\\nUseful insight in: Service.\\nThat insight could be helpful in the following way:\\nContribute to the well-being of others by offering help and support, understanding that even small acts of kindness have significant value.  ' metadata={'source': './DB_Book_and_Famous.txt'}\n",
      "page_content='\\nSource of Insight: A Tale of Two Cities by Charles Dickens.\\nContent of insight: It was the best of times, it was the worst of times..\\nUseful insight in: Life.\\nThat insight could be helpful in the following way:\\nAcknowledge the duality of life, accepting that good and bad times coexist, and find balance by appreciating both.  \\n' metadata={'source': './DB_Book_and_Famous.txt'}\n"
     ]
    }
   ],
   "source": [
    "\n",
    "file_path = './DB_Book_and_Famous.txt'\n",
    "loader = TextLoader(file_path)\n",
    "\n",
    "splitter = CustomTextSplitter(delimiter='\\n\\n')\n",
    "\n",
    "documents = loader.load()\n",
    "print(documents)\n",
    "print(len(documents))\n",
    "\n",
    "# for document in documents:\n",
    "#   print(document.page_content)\n",
    "\n",
    "document = splitter.split_documents(documents)\n",
    "print(len(document))\n",
    "for chunk in document:\n",
    "  print(chunk)\n",
    "\n",
    "# for document in documents:\n",
    "#     chunks = splitter.split_text(document.page_content)\n",
    "\n",
    "# print(chunks)\n",
    "# print(type(chunks))\n",
    "# print(len(chunks))"
   ]
  },
  {
   "cell_type": "code",
   "execution_count": 3,
   "metadata": {},
   "outputs": [],
   "source": [
    "from langchain.embeddings import OpenAIEmbeddings"
   ]
  },
  {
   "cell_type": "code",
   "execution_count": 4,
   "metadata": {},
   "outputs": [
    {
     "name": "stderr",
     "output_type": "stream",
     "text": [
      "/Users/gangjimin/Documents/GitHub/Trivialog/venv/lib/python3.11/site-packages/langchain_core/_api/deprecation.py:119: LangChainDeprecationWarning: The class `OpenAIEmbeddings` was deprecated in LangChain 0.0.9 and will be removed in 0.3.0. An updated version of the class exists in the langchain-openai package and should be used instead. To use it run `pip install -U langchain-openai` and import as `from langchain_openai import OpenAIEmbeddings`.\n",
      "  warn_deprecated(\n"
     ]
    }
   ],
   "source": [
    "embed_model = OpenAIEmbeddings(model='text-embedding-3-large')"
   ]
  },
  {
   "cell_type": "code",
   "execution_count": 5,
   "metadata": {},
   "outputs": [],
   "source": [
    "from langchain_community.vectorstores import FAISS\n",
    "\n",
    "vector_index = FAISS.from_documents(document, embed_model)"
   ]
  },
  {
   "cell_type": "code",
   "execution_count": 6,
   "metadata": {},
   "outputs": [
    {
     "name": "stdout",
     "output_type": "stream",
     "text": [
      "<class 'langchain_community.vectorstores.faiss.FAISS'>\n"
     ]
    }
   ],
   "source": [
    "print(type(vector_index))"
   ]
  },
  {
   "cell_type": "code",
   "execution_count": 7,
   "metadata": {},
   "outputs": [
    {
     "name": "stdout",
     "output_type": "stream",
     "text": [
      "<langchain_community.vectorstores.faiss.FAISS object at 0x13753c190>\n"
     ]
    }
   ],
   "source": [
    "print(vector_index)"
   ]
  },
  {
   "cell_type": "code",
   "execution_count": 8,
   "metadata": {},
   "outputs": [
    {
     "name": "stdout",
     "output_type": "stream",
     "text": [
      "38\n"
     ]
    }
   ],
   "source": [
    "print(len(vector_index.index_to_docstore_id))"
   ]
  },
  {
   "cell_type": "code",
   "execution_count": 9,
   "metadata": {},
   "outputs": [
    {
     "name": "stdout",
     "output_type": "stream",
     "text": [
      "<class 'faiss.swigfaiss.IndexFlatL2'>\n"
     ]
    }
   ],
   "source": [
    "print(type(vector_index.index))"
   ]
  },
  {
   "cell_type": "code",
   "execution_count": 10,
   "metadata": {},
   "outputs": [],
   "source": [
    "retriever = vector_index.as_retriever(\n",
    "  search_kwargs={'k': 3}\n",
    ")"
   ]
  },
  {
   "cell_type": "code",
   "execution_count": 11,
   "metadata": {},
   "outputs": [],
   "source": [
    "query = 'I am tired.'\n",
    "retrieved_docs = retriever.invoke(query)"
   ]
  },
  {
   "cell_type": "code",
   "execution_count": 12,
   "metadata": {},
   "outputs": [
    {
     "name": "stdout",
     "output_type": "stream",
     "text": [
      "page_content='\\nSource of Insight: Pride and Prejudice by Jane Austen.\\nContent of insight: I declare after all there is no enjoyment like reading! How much sooner one tires of anything than of a book!.\\nUseful insight in: Reading.\\nThat insight could be helpful in the following way:\\nEmbrace reading as a source of joy and enrichment, regularly engaging with books to broaden your perspective and knowledge.  ' metadata={'source': './DB_Book_and_Famous.txt'}\n",
      "page_content='\\nSource of Insight: Maya Angelou, Poet.\\nContent of insight: You will face many defeats in life, but never let yourself be defeated..\\nUseful insight in: Resilience.\\nThat insight could be helpful in the following way:\\nApply this insight by viewing setbacks as opportunities to learn and grow, maintaining a positive mindset, and persevering through difficult times. ' metadata={'source': './DB_Book_and_Famous.txt'}\n",
      "page_content='\\nSource of Insight: The Great Gatsby by F. Scott Fitzgerald.\\nContent of insight: So we beat on, boats against the current, borne back ceaselessly into the past..\\nUseful insight in: Perseverance.\\nThat insight could be helpful in the following way:\\nUse this insight to accept the persistence of challenges while maintaining hope and continuing to strive for progress.  ' metadata={'source': './DB_Book_and_Famous.txt'}\n"
     ]
    }
   ],
   "source": [
    "for doc in retrieved_docs:\n",
    "  print(doc)"
   ]
  },
  {
   "cell_type": "code",
   "execution_count": 13,
   "metadata": {},
   "outputs": [
    {
     "name": "stdout",
     "output_type": "stream",
     "text": [
      "38\n"
     ]
    }
   ],
   "source": [
    "print(vector_index.index.ntotal)"
   ]
  },
  {
   "cell_type": "code",
   "execution_count": 14,
   "metadata": {},
   "outputs": [],
   "source": [
    "store_path = './db/faiss_index'\n",
    "vector_index.save_local(store_path)"
   ]
  },
  {
   "cell_type": "code",
   "execution_count": 43,
   "metadata": {},
   "outputs": [],
   "source": [
    "vector_index = FAISS.load_local(store_path, embed_model, allow_dangerous_deserialization=True)"
   ]
  },
  {
   "cell_type": "code",
   "execution_count": 44,
   "metadata": {},
   "outputs": [
    {
     "data": {
      "text/plain": [
       "38"
      ]
     },
     "execution_count": 44,
     "metadata": {},
     "output_type": "execute_result"
    }
   ],
   "source": [
    "vector_index.index.ntotal"
   ]
  },
  {
   "cell_type": "code",
   "execution_count": 58,
   "metadata": {},
   "outputs": [],
   "source": [
    "retriever = vector_index.as_retriever(\n",
    "  search_kwargs={'k': 3}\n",
    ")\n",
    "\n",
    "retriever_threshold = vector_index.as_retriever(\n",
    "  search_type='similarity_score_threshold',\n",
    "  search_kwargs={'score_threshold': 0.4}\n",
    ")"
   ]
  },
  {
   "cell_type": "code",
   "execution_count": 62,
   "metadata": {},
   "outputs": [
    {
     "name": "stderr",
     "output_type": "stream",
     "text": [
      "/Users/gangjimin/Documents/GitHub/Trivialog/venv/lib/python3.11/site-packages/langchain_core/vectorstores.py:379: UserWarning: Relevance scores must be between 0 and 1, got [(Document(page_content=\"\\nSource of Insight: Nelson Mandela, Political Leader.\\nContent of insight: It always seems impossible until it's done..\\nUseful insight in: Perseverance.\\nThat insight could be helpful in the following way:\\nUse this insight to push through challenging tasks by remembering that many great achievements once seemed impossible. \", metadata={'source': './DB_Book_and_Famous.txt'}), -0.12184938791642219), (Document(page_content='\\nSource of Insight: Thinking, Fast and Slow by Daniel Kahneman.\\nContent of insight: Nothing in life is as important as you think it is, while you are thinking about it..\\nUseful insight in: Perspective.\\nThat insight could be helpful in the following way:\\nMaintain perspective by recognizing that immediate concerns often seem more significant than they truly are, helping you to manage stress and make better decisions.  ', metadata={'source': './DB_Book_and_Famous.txt'}), -0.1279924596742792), (Document(page_content='Source of Insight: Albert Einstein, Physicist.\\nContent of insight: Life is like riding a bicycle. To keep your balance, you must keep moving..\\nUseful insight in: Motivation.\\nThat insight could be helpful in the following way:\\nUse this insight to remind yourself that continuous effort and progress are essential in overcoming challenges and maintaining stability in life.  ', metadata={'source': './DB_Book_and_Famous.txt'}), -0.1374857001265699), (Document(page_content='\\nSource of Insight: Steve Jobs, Entrepreneur.\\nContent of insight: Your work is going to fill a large part of your life, and the only way to be truly satisfied is to do what you believe is great work..\\nUseful insight in: Career.\\nThat insight could be helpful in the following way:\\nFocus on finding and pursuing work that aligns with your passions and values to achieve fulfillment and satisfaction in your career. ', metadata={'source': './DB_Book_and_Famous.txt'}), -0.15157952197491587)]\n",
      "  warnings.warn(\n",
      "/Users/gangjimin/Documents/GitHub/Trivialog/venv/lib/python3.11/site-packages/langchain_core/vectorstores.py:391: UserWarning: No relevant docs were retrieved using the relevance score threshold 0.01\n",
      "  warnings.warn(\n"
     ]
    }
   ],
   "source": [
    "retrieved_docs = retriever.get_relevant_documents(query)\n",
    "retrieved_docs_threshold = retriever_threshold.get_relevant_documents(query)"
   ]
  },
  {
   "cell_type": "code",
   "execution_count": 61,
   "metadata": {},
   "outputs": [
    {
     "name": "stdout",
     "output_type": "stream",
     "text": [
      "[Document(page_content=\"\\nSource of Insight: Nelson Mandela, Political Leader.\\nContent of insight: It always seems impossible until it's done..\\nUseful insight in: Perseverance.\\nThat insight could be helpful in the following way:\\nUse this insight to push through challenging tasks by remembering that many great achievements once seemed impossible. \", metadata={'source': './DB_Book_and_Famous.txt'}), Document(page_content='\\nSource of Insight: Thinking, Fast and Slow by Daniel Kahneman.\\nContent of insight: Nothing in life is as important as you think it is, while you are thinking about it..\\nUseful insight in: Perspective.\\nThat insight could be helpful in the following way:\\nMaintain perspective by recognizing that immediate concerns often seem more significant than they truly are, helping you to manage stress and make better decisions.  ', metadata={'source': './DB_Book_and_Famous.txt'}), Document(page_content='Source of Insight: Albert Einstein, Physicist.\\nContent of insight: Life is like riding a bicycle. To keep your balance, you must keep moving..\\nUseful insight in: Motivation.\\nThat insight could be helpful in the following way:\\nUse this insight to remind yourself that continuous effort and progress are essential in overcoming challenges and maintaining stability in life.  ', metadata={'source': './DB_Book_and_Famous.txt'})]\n",
      "<class 'list'>\n"
     ]
    }
   ],
   "source": [
    "print(retrieved_docs)\n",
    "print(type(retrieved_docs))"
   ]
  },
  {
   "cell_type": "code",
   "execution_count": 50,
   "metadata": {},
   "outputs": [
    {
     "name": "stdout",
     "output_type": "stream",
     "text": [
      "\n",
      "Source of Insight: Nelson Mandela, Political Leader.\n",
      "Content of insight: It always seems impossible until it's done..\n",
      "Useful insight in: Perseverance.\n",
      "That insight could be helpful in the following way:\n",
      "Use this insight to push through challenging tasks by remembering that many great achievements once seemed impossible. \n",
      "<class 'langchain_core.documents.base.Document'>\n",
      "\n",
      "Source of Insight: Thinking, Fast and Slow by Daniel Kahneman.\n",
      "Content of insight: Nothing in life is as important as you think it is, while you are thinking about it..\n",
      "Useful insight in: Perspective.\n",
      "That insight could be helpful in the following way:\n",
      "Maintain perspective by recognizing that immediate concerns often seem more significant than they truly are, helping you to manage stress and make better decisions.  \n",
      "<class 'langchain_core.documents.base.Document'>\n",
      "Source of Insight: Albert Einstein, Physicist.\n",
      "Content of insight: Life is like riding a bicycle. To keep your balance, you must keep moving..\n",
      "Useful insight in: Motivation.\n",
      "That insight could be helpful in the following way:\n",
      "Use this insight to remind yourself that continuous effort and progress are essential in overcoming challenges and maintaining stability in life.  \n",
      "<class 'langchain_core.documents.base.Document'>\n"
     ]
    }
   ],
   "source": [
    "for doc in retrieved_docs:\n",
    "  print(doc.page_content)\n",
    "  print(type(doc))"
   ]
  },
  {
   "cell_type": "code",
   "execution_count": null,
   "metadata": {},
   "outputs": [],
   "source": []
  }
 ],
 "metadata": {
  "kernelspec": {
   "display_name": "venv",
   "language": "python",
   "name": "python3"
  },
  "language_info": {
   "codemirror_mode": {
    "name": "ipython",
    "version": 3
   },
   "file_extension": ".py",
   "mimetype": "text/x-python",
   "name": "python",
   "nbconvert_exporter": "python",
   "pygments_lexer": "ipython3",
   "version": "3.11.4"
  }
 },
 "nbformat": 4,
 "nbformat_minor": 2
}
